{
 "cells": [
  {
   "cell_type": "markdown",
   "id": "9395c475",
   "metadata": {},
   "source": [
    "## DSC 180AB Data Science Capstone\n",
    "### Replication Project"
   ]
  },
  {
   "cell_type": "markdown",
   "id": "9e49e865",
   "metadata": {},
   "source": [
    "Team Members:"
   ]
  },
  {
   "cell_type": "markdown",
   "id": "9aa1c3d2",
   "metadata": {},
   "source": [
    "### Table of Contents\n",
    "To return to the table of contents, click on the number at any major section heading."
   ]
  },
  {
   "cell_type": "markdown",
   "id": "1dacfbb4",
   "metadata": {},
   "source": [
    "[1. Introduction](#1.-Introduction)\n",
    "\n",
    "[2. Exploratory Data Analysis](#2.-Exploratory-Data-Analysis)\n",
    "\n",
    "[3. Model Development](#3.-Model-Development)\n",
    "\n",
    "[4. Model Evaluation](#4.-Model-Evaluation)\n",
    "\n",
    "[5. Bias Mitigation](#5.-Bias-Mitigation)\n",
    "\n",
    "[6. Results Summary](#6.-Results-Summary)\n",
    "\n",
    "[7. Explainability](#7.-Explainability)\n",
    "\n",
    "[8. Conclusion & Discussion](#8.-Conclusion-&-Discussion)\n"
   ]
  },
  {
   "cell_type": "markdown",
   "id": "76354145-7d96-4a89-92ec-4dfa713ff959",
   "metadata": {},
   "source": [
    "## This tutorial demonstrates classification model learning with bias mitigation as a part of a Care Management use case using Medical Expenditure data."
   ]
  },
  {
   "cell_type": "markdown",
   "id": "7799d7d3-7572-4e08-9e3a-812ba39befda",
   "metadata": {},
   "source": [
    "The notebook demonstrates how the AIF 360 toolkit can be used to detect and reduce bias when learning classifiers using a variety of fairness metrics and algorithms. It also demonstrates how explanations can be generated for predictions made by models learnt with the toolkit using LIME.\n",
    "\n",
    "* Classifiers are built using Logistic Regression as well as Random Forests.\n",
    "* Bias detection is demonstrated using several metrics, including disparate impact, average odds difference, statistical parity difference, equal opportunity difference, and Theil index.\n",
    "* Bias alleviation is explored via a variety of methods, including reweighing (pre-processing algorithm), prejudice remover (in-processing algorithm), and disparate impact remover (pre-processing technique).\n",
    "* Data from the [Medical Expenditure Panel Survey](https://meps.ahrq.gov/mepsweb/) is used in this tutorial.\n",
    "\n",
    "\n",
    "The Medical Expenditure Panel Survey (MEPS) provides nationally representative estimates of health expenditure, utilization, payment sources, health status, and health insurance coverage among the noninstitutionalized U.S. population. These government-produced data sets examine how people use the US healthcare system.\n",
    "\n",
    "MEPS is administered by the Agency for Healthcare Research and Quality (AHRQ) and is divided into three components: \n",
    "* Household\n",
    "* Insurance/Employer, and \n",
    "* Medical Provider. \n",
    "\n",
    "These components provide comprehensive national estimates of health care use and payment by individuals, families, and any other demographic group of interest."
   ]
  },
  {
   "cell_type": "markdown",
   "id": "ebad3269",
   "metadata": {},
   "source": [
    "### [1.](#Table-of-Contents) Introduction"
   ]
  },
  {
   "cell_type": "markdown",
   "id": "c682f615",
   "metadata": {},
   "source": [
    "The [AI Fairness 360 toolkit](https://github.com/Trusted-AI/AIF360) is an extensible open-source library containing techniques developed by the research community to help detect and mitigate bias in machine learning models throughout the AI application lifecycle. AI Fairness 360 documentation is available [here](https://aif360.readthedocs.io/en/stable/).\n",
    "\n",
    "The AI Fairness 360 package includes: \n",
    "- a comprehensive set of metrics for datasets and models to test for biases,\n",
    "- explanations for these metrics, and\n",
    "- algorithms to mitigate bias in datasets and models\n",
    "It is designed to translate algorithmic research from the lab into the actual practice of domains as wide-ranging as finance, human capital management, healthcare, and education"
   ]
  },
  {
   "cell_type": "markdown",
   "id": "523227a6-425b-4dba-bb8a-81ea10e59102",
   "metadata": {
    "tags": []
   },
   "source": [
    "#### 1.1 Use Case\n",
    "\n",
    "**In order to demonstrate how AIF360 can be used to detect and mitigate bias in classifier models, we adopt the following use case:**\n",
    "\n",
    "* Data scientist develops a 'fair' healthcare utilization scoring model with respect to defined protected classes. Fairness may be dictated by legal or government regulations, such as a requirement that additional care decisions be not predicated on factors such as race of the patient.\n",
    "* Developer takes the model AND performance characteristics / specs of the model (e.g. accuracy, fairness tests, etc. basically the model factsheet) and deploys the model in an enterprise app that prioritizes cases for care management.\n",
    "* The app is put into production and starts scoring people and making recommendations. \n",
    "* Explanations are generated for each recommendation\n",
    "* Both recommendations and associated explanations are given to nurses as a part of the care management process. The nurses can evaluate the recommendations for quality and correctness and provide feedback.\n",
    "* Nurse feedback as well as analysis of usage data with respect to specs of the model w.r.t accuracy and fairness is communicated to AI Ops specialist and LOB user periodically.\n",
    "* When significant drift in model specs relative to the model factsheet is observed, the model is sent back for retraining."
   ]
  },
  {
   "cell_type": "markdown",
   "id": "f8b3fccd-dada-42d4-a408-42582b8d060f",
   "metadata": {
    "tags": []
   },
   "source": [
    "#### 1.2 Data\n",
    "Released as an ASCII file (with related SAS, SPSS, and STATA programming statements) and a SAS transport dataset, this public use file provides information collected on a nationally representative sample of the civilian noninstitutionalized population of the United States for calendar year 2015. This file consists of MEPS survey data obtained in Rounds 3, 4, and 5 of Panel 19 and Rounds 1, 2, and 3 of Panel 20 (i.e., the rounds for the MEPS panels covering calendar year 2015) and consolidates all of the final 2015 person-level variables onto one file. This file contains the following variables previously released on HC-174: survey administration, language of interview variable, demographics, parent identifiers, health status, disability days variables, access to care, employment, quality of care, patient satisfaction, health insurance, and use variables. The HC-181 file also includes these variables: income variables and expenditure variables.\n",
    "\n",
    "The specific data used is the [2015 Full Year Consolidated Data File](https://meps.ahrq.gov/mepsweb/data_stats/download_data_files_detail.jsp?cboPufNumber=HC-181) as well as the [2016 Full Year Consolidated Data File](https://meps.ahrq.gov/mepsweb/data_stats/download_data_files_detail.jsp?cboPufNumber=HC-192).\n",
    "\n",
    "* The 2015 file contains data from rounds 3,4,5 of panel 19 (2014) and rounds 1,2,3 of panel 20 (2015). \n",
    "* The 2016 file contains data from rounds 3,4,5 of panel 20 (2015) and rounds 1,2,3 of panel 21 (2016).\n",
    "\n",
    "In this example, three datasets were constructed: one from panel 19, round 5 (used for learning models), one from panel 20, round 3 (used for deployment/testing of model - steps); the other from panel 21, round 3 (used for re-training and deployment/testing of updated model)."
   ]
  },
  {
   "cell_type": "markdown",
   "id": "4bcd0b66-89d3-4e62-a3af-1b62b3dbaf27",
   "metadata": {
    "jp-MarkdownHeadingCollapsed": true,
    "tags": []
   },
   "source": [
    "#### 1.3 Methodology \n",
    "\n",
    "For each dataset, the sensitive attribute is 'RACE' constructed as follows: 'Whites' (privileged class) defined by the features RACEV2X = 1 (White) and HISPANX = 2 (non Hispanic); 'Non-Whites' that included everyone else.  \n",
    "\n",
    "* Along with race as the sensitive feature, other features used for modeling include demographics  (such as age, gender, active duty status), physical/mental health assessments, diagnosis codes (such as history of diagnosis of cancer, or diabetes), and limitations (such as cognitive or hearing or vision limitation).\n",
    "* To measure utilization, a composite feature, 'UTILIZATION', was created to measure the total number of trips requiring some sort of medical care by summing up the following features: OBTOTV15(16), the number of office based visits;  OPTOTV15(16), the number of outpatient visits; ERTOT15(16), the number of ER visits;  IPNGTD15(16), the number of inpatient nights, and  + HHTOTD16, the number of home health visits.\n",
    "* The model classification task is to predict whether a person would have 'high' utilization (defined as UTILIZATION >= 10, roughly the average utilization for the considered population). High utilization respondents constituted around 17% of each dataset.\n",
    "* To simulate the scenario, each dataset is split into 3 parts: a train, a validation, and a test/deployment part.\n",
    "\n",
    "**We assume that the model is initially built and tuned using the 2015 Panel 19 train/test data**\n",
    "* It is then put into practice and used to score people to identify potential candidates for care management. \n",
    "* Initial deployment is simulated to 2015 Panel 20 deployment data. \n",
    "* To show change in performance and/or fairness over time, the 2016 Panel 21 deployment data is used. \n",
    "* Finally, if drift is observed, the 2015 train/validation data is used to learn a new model and evaluated again on the 2016 deployment data"
   ]
  },
  {
   "cell_type": "markdown",
   "id": "913a44da",
   "metadata": {},
   "source": [
    "### 1.4 Insert writeup of overall replication project goals and big picture thinking (2-3 paragraphs).  \n",
    "* Why do we care about this? \n",
    "* What would the benefit of predicting utilization be? \n",
    "* What might occur if there are errors?\n",
    "* Who are the affected parties and stakeholders?\n",
    "* Other thoughts?"
   ]
  },
  {
   "cell_type": "markdown",
   "id": "5cd7569b-9388-4939-9422-6d134dbc0303",
   "metadata": {},
   "source": [
    "**Write up here:**\n",
    "\n",
    "This data gives insights into mental and physical health across different ages. Based on the results, people can better target groups based on their mental/physical health scores. For example, if we find there to be a high correlation between people in a specific age/demographic and their physical health, we can focus efforts on improving health decisions for these groups.\n",
    "This would allow resource allocation to much more efficient. If we were to accurately predict this it could reduce wait times and help with overall efficiency.For example, healthcare utilization prediction, measuring patients requiring 10 or more medical visits, serves as a vital tool for healthcare systems worldwide, enabling providers to optimize resources regardless of their public or private framework. \n",
    "\n",
    "\n",
    "\n",
    "In a dataset like this, errors can have a huge real-world impact, especially in terms of resource utilization. As mentioned earlier, if we conclude that specific groups need more resources/help but find out that there were errors in the data/algorithm, then we would be incorrectly using resources that could be helping demographics that need it more.\n",
    "The affected parties and stakeholders would include anyone from the healthcare sector. This would include patients, healthcare providers, insurance companies, and policymakers. For instance, patients and healthcare providers may depend on the model for identification and health assessments. It is crucial that the predictions it makes are accurate and precise.\n"
   ]
  },
  {
   "cell_type": "markdown",
   "id": "20f776c5-8ed6-49c3-9f12-f2afed0605d4",
   "metadata": {},
   "source": [
    "---\n",
    "End of Introduction"
   ]
  },
  {
   "cell_type": "markdown",
   "id": "5f1413d0",
   "metadata": {},
   "source": [
    "### [2.](#Table-of-Contents) Exploratory Data Analysis (EDA)\n"
   ]
  },
  {
   "cell_type": "markdown",
   "id": "e6c4a57f-abcf-47c6-961e-baec728e930a",
   "metadata": {},
   "source": [
    "The specific data used is the [2015 Full Year Consolidated Data File](https://meps.ahrq.gov/mepsweb/data_stats/download_data_files_detail.jsp?cboPufNumber=HC-181) as well as the [2016 Full Year Consolidated Data File](https://meps.ahrq.gov/mepsweb/data_stats/download_data_files_detail.jsp?cboPufNumber=HC-192).\n",
    "\n",
    "* The 2015 file contains data from rounds 3,4,5 of panel 19 (2014) and rounds 1,2,3 of panel 20 (2015). \n",
    "* The 2016 file contains data from rounds 3,4,5 of panel 20 (2015) and rounds 1,2,3 of panel 21 (2016).\n",
    "\n",
    "In this example, three datasets were constructed: one from panel 19, round 5 (used for learning models), one from panel 20, round 3 (used for deployment/testing of model - steps); the other from panel 21, round 3 (used for re-training and deployment/testing of updated model).\n",
    "\n",
    "See the corresponding [Codebook](https://meps.ahrq.gov/mepsweb/data_stats/download_data_files_detail.jsp?cboPufNumber=HC-181) for information on variables.\n",
    "\n",
    "##### Key MEPS dataset features include:\n",
    "* **Utilization**: To measure utilization, a composite feature, 'UTILIZATION', was created to measure the total number of trips requiring some sort of medical care by summing up the following features: OBTOTV15(16), the number of office based visits;  OPTOTV15(16), the number of outpatient visits; ERTOT15(16), the number of ER visits;  IPNGTD15(16), the number of inpatient nights, and  + HHTOTD16, the number of home health visits.\n",
    "* The model classification task is to predict whether a person would have **'high'** utilization (defined as UTILIZATION >= 10, roughly the average utilization for the considered population). High utilization respondents constituted around 17% of each dataset."
   ]
  },
  {
   "cell_type": "markdown",
   "id": "d7368b94-7451-4cf1-8a66-229d2a07907d",
   "metadata": {
    "tags": []
   },
   "source": [
    "#### 2.0 Pre-processing Scripts (for each Panel)\n",
    "\n",
    "There is currently minimal EDA for this tutorial within IBM AIF360 Medical Expenditure Tutorial. Therefore, we have adapted  utility scripts from IBM AIF360 Tutorial for ease of understanding for how datasets were pre-processed. These will be used primarily for EDA purposes. We will utilize IBM's tutorial for the remainder of the project. We have utilized Pandas for this portion of the project. \n",
    "\n",
    "**Note:** these pre-processing script below are run for each data file, and then filtered for each panel. This was done in order to match subsequent portions of the tutorial, and how train/test/validation datasets were split."
   ]
  },
  {
   "cell_type": "markdown",
   "id": "49b833fd",
   "metadata": {
    "tags": []
   },
   "source": [
    "#### 2.1 Get and Load Dataset, Apply Pre-processing"
   ]
  },
  {
   "cell_type": "markdown",
   "id": "cd36982c-27bb-4159-9d99-1730c1ca8b6c",
   "metadata": {
    "tags": []
   },
   "source": [
    "**Before Proceeding Ensure You Have:**\n",
    "* Forked the AIF360 repository and cloned locally to your disk or virtual machine\n",
    "* Downloaded the `h181.csv` and `h192.csv` data files uploaded [here](https://www.kaggle.com/datasets/nanrahman/mepsdata)\n",
    "* Place the `h181.csv` and `h192.csv` in a folder you can access (we placed it in `../aif360/data/raw/meps/` of our forked AIF360 repository)\n",
    "* For EDA we only focus on `h181.csv` "
   ]
  },
  {
   "cell_type": "code",
   "execution_count": 1,
   "id": "52b887ff",
   "metadata": {},
   "outputs": [
    {
     "name": "stderr",
     "output_type": "stream",
     "text": [
      "2024-11-14 19:18:00.023384: I tensorflow/core/platform/cpu_feature_guard.cc:210] This TensorFlow binary is optimized to use available CPU instructions in performance-critical operations.\n",
      "To enable the following instructions: AVX2 FMA, in other operations, rebuild TensorFlow with the appropriate compiler flags.\n",
      "/opt/miniconda3/envs/aif360/lib/python3.9/site-packages/torch/_functorch/deprecated.py:61: UserWarning: We've integrated functorch into PyTorch. As the final step of the integration, functorch.vmap is deprecated as of PyTorch 2.0 and will be deleted in a future version of PyTorch >= 2.3. Please use torch.vmap instead; see the PyTorch 2.0 release notes and/or the torch.func migration guide for more details https://pytorch.org/docs/master/func.migrating.html\n",
      "  warn_deprecated('vmap', 'torch.vmap')\n"
     ]
    }
   ],
   "source": [
    "# Imports\n",
    "import sys\n",
    "\n",
    "%matplotlib inline\n",
    "import matplotlib.pyplot as plt\n",
    "import numpy as np\n",
    "from IPython.display import Markdown, display\n",
    "import pandas as pd\n",
    "import seaborn as sns\n",
    "\n",
    "# Datasets\n",
    "from aif360.datasets import MEPSDataset19\n",
    "from aif360.datasets import MEPSDataset20\n",
    "from aif360.datasets import MEPSDataset21\n",
    "\n",
    "# Fairness metrics\n",
    "from aif360.metrics import BinaryLabelDatasetMetric\n",
    "from aif360.metrics import ClassificationMetric\n",
    "\n",
    "from sklearn.pipeline import make_pipeline\n"
   ]
  },
  {
   "cell_type": "code",
   "execution_count": 2,
   "id": "98db0e2c-0708-42c4-a854-3c074c893a9e",
   "metadata": {},
   "outputs": [],
   "source": [
    "# raw_181 = pd.read_csv('/Users/jiang/Desktop/AIF360/aif360/data/raw/meps/h181.csv')\n",
    "\n",
    "raw_181 = pd.read_csv('/Users/grace/Desktop/AIF360/aif360/data/raw/meps/h181.csv')"
   ]
  },
  {
   "cell_type": "markdown",
   "id": "9365299c-679b-4022-93fe-de6017aec710",
   "metadata": {},
   "source": [
    "#### Apply pre-processing scripts"
   ]
  },
  {
   "cell_type": "code",
   "execution_count": 3,
   "id": "0cbeb4dd-572c-4365-b137-d3b6b4121e07",
   "metadata": {},
   "outputs": [],
   "source": [
    "default_mappings = {\n",
    "    'label_maps': [{1.0: '>= 10 Visits', 0.0: '< 10 Visits'}],\n",
    "    'protected_attribute_maps': [{1.0: 'White', 0.0: 'Non-White'}]}\n",
    "\n",
    "def default_preprocessing19(df):\n",
    "    \"\"\"\n",
    "    1.Create a new column, RACE that is 'White' if RACEV2X = 1 and HISPANX = 2 i.e. non Hispanic White\n",
    "      and 'non-White' otherwise\n",
    "    2. Restrict to Panel 19\n",
    "    3. RENAME all columns that are PANEL/ROUND SPECIFIC\n",
    "    4. Drop rows based on certain values of individual features that correspond to missing/unknown - generally < -1\n",
    "    5. Compute UTILIZATION, binarize it to 0 (< 10) and 1 (>= 10)\n",
    "    \"\"\"\n",
    "    def race(row):\n",
    "        if ((row['HISPANX'] == 2) and (row['RACEV2X'] == 1)):  #non-Hispanic Whites are marked as WHITE; all others as NON-WHITE#return 'White'\n",
    "            return 'Non-White'\n",
    "\n",
    "    df['RACEV2X'] = df.apply(lambda row: race(row), axis=1)\n",
    "    df = df.rename(columns = {'RACEV2X' : 'RACE'})\n",
    "\n",
    "    df = df[df['PANEL'] == 19]\n",
    "\n",
    "    # RENAME COLUMNS\n",
    "    df = df.rename(columns = {'FTSTU53X' : 'FTSTU', 'ACTDTY53' : 'ACTDTY', 'HONRDC53' : 'HONRDC', 'RTHLTH53' : 'RTHLTH',\n",
    "                              'MNHLTH53' : 'MNHLTH', 'CHBRON53' : 'CHBRON', 'JTPAIN53' : 'JTPAIN', 'PREGNT53' : 'PREGNT',\n",
    "                              'WLKLIM53' : 'WLKLIM', 'ACTLIM53' : 'ACTLIM', 'SOCLIM53' : 'SOCLIM', 'COGLIM53' : 'COGLIM',\n",
    "                              'EMPST53' : 'EMPST', 'REGION53' : 'REGION', 'MARRY53X' : 'MARRY', 'AGE53X' : 'AGE',\n",
    "                              'POVCAT15' : 'POVCAT', 'INSCOV15' : 'INSCOV'})\n",
    "\n",
    "    df = df[df['REGION'] >= 0] # remove values -1\n",
    "    df = df[df['AGE'] >= 0] # remove values -1\n",
    "\n",
    "    df = df[df['MARRY'] >= 0] # remove values -1, -7, -8, -9\n",
    "\n",
    "    df = df[df['ASTHDX'] >= 0] # remove values -1, -7, -8, -9\n",
    "\n",
    "    df = df[(df[['FTSTU','ACTDTY','HONRDC','RTHLTH','MNHLTH','HIBPDX','CHDDX','ANGIDX','EDUCYR','HIDEG',\n",
    "                             'MIDX','OHRTDX','STRKDX','EMPHDX','CHBRON','CHOLDX','CANCERDX','DIABDX',\n",
    "                             'JTPAIN','ARTHDX','ARTHTYPE','ASTHDX','ADHDADDX','PREGNT','WLKLIM',\n",
    "                             'ACTLIM','SOCLIM','COGLIM','DFHEAR42','DFSEE42','ADSMOK42',\n",
    "                             'PHQ242','EMPST','POVCAT','INSCOV']] >= -1).all(1)]  #for all other categorical features, remove values < -1\n",
    "\n",
    "    def utilization(row):\n",
    "        return row['OBTOTV15'] + row['OPTOTV15'] + row['ERTOT15'] + row['IPNGTD15'] + row['HHTOTD15']\n",
    "\n",
    "    df['TOTEXP15'] = df.apply(lambda row: utilization(row), axis=1)\n",
    "    lessE = df['TOTEXP15'] < 10.0\n",
    "    df.loc[lessE,'TOTEXP15'] = 0.0\n",
    "    moreE = df['TOTEXP15'] >= 10.0\n",
    "    df.loc[moreE,'TOTEXP15'] = 1.0\n",
    "\n",
    "    df = df.rename(columns = {'TOTEXP15' : 'UTILIZATION'})\n",
    "    return df"
   ]
  },
  {
   "cell_type": "code",
   "execution_count": 4,
   "id": "55df0a46-3c8d-4359-a955-43aff0a118eb",
   "metadata": {},
   "outputs": [],
   "source": [
    "def default_preprocessing20(df):\n",
    "    \"\"\"\n",
    "    1.Create a new column, RACE that is 'White' if RACEV2X = 1 and HISPANX = 2 i.e. non Hispanic White\n",
    "      and 'non-White' otherwise\n",
    "    2. Restrict to Panel 20\n",
    "    3. RENAME all columns that are PANEL/ROUND SPECIFIC\n",
    "    4. Drop rows based on certain values of individual features that correspond to missing/unknown - generally < -1\n",
    "    5. Compute UTILIZATION, binarize it to 0 (< 10) and 1 (>= 10)\n",
    "    \"\"\"\n",
    "    def race(row):\n",
    "        if ((row['HISPANX'] == 2) and (row['RACEV2X'] == 1)):  #non-Hispanic Whites are marked as WHITE; all others as NON-WHITE\n",
    "            return 'White'\n",
    "        return 'Non-White'\n",
    "\n",
    "    df['RACEV2X'] = df.apply(lambda row: race(row), axis=1)\n",
    "    df = df.rename(columns = {'RACEV2X' : 'RACE'})\n",
    "\n",
    "    df = df[df['PANEL'] == 20]\n",
    "\n",
    "    # RENAME COLUMNS\n",
    "    df = df.rename(columns = {'FTSTU53X' : 'FTSTU', 'ACTDTY53' : 'ACTDTY', 'HONRDC53' : 'HONRDC', 'RTHLTH53' : 'RTHLTH',\n",
    "                              'MNHLTH53' : 'MNHLTH', 'CHBRON53' : 'CHBRON', 'JTPAIN53' : 'JTPAIN', 'PREGNT53' : 'PREGNT',\n",
    "                              'WLKLIM53' : 'WLKLIM', 'ACTLIM53' : 'ACTLIM', 'SOCLIM53' : 'SOCLIM', 'COGLIM53' : 'COGLIM',\n",
    "                              'EMPST53' : 'EMPST', 'REGION53' : 'REGION', 'MARRY53X' : 'MARRY', 'AGE53X' : 'AGE',\n",
    "                              'POVCAT15' : 'POVCAT', 'INSCOV15' : 'INSCOV'})\n",
    "\n",
    "    df = df[df['REGION'] >= 0] # remove values -1\n",
    "    df = df[df['AGE'] >= 0] # remove values -1\n",
    "\n",
    "    df = df[df['MARRY'] >= 0] # remove values -1, -7, -8, -9\n",
    "\n",
    "    df = df[df['ASTHDX'] >= 0] # remove values -1, -7, -8, -9\n",
    "\n",
    "    df = df[(df[['FTSTU','ACTDTY','HONRDC','RTHLTH','MNHLTH','HIBPDX','CHDDX','ANGIDX','EDUCYR','HIDEG',\n",
    "                             'MIDX','OHRTDX','STRKDX','EMPHDX','CHBRON','CHOLDX','CANCERDX','DIABDX',\n",
    "                             'JTPAIN','ARTHDX','ARTHTYPE','ASTHDX','ADHDADDX','PREGNT','WLKLIM',\n",
    "                             'ACTLIM','SOCLIM','COGLIM','DFHEAR42','DFSEE42','ADSMOK42',\n",
    "                             'PHQ242','EMPST','POVCAT','INSCOV']] >= -1).all(1)]  #for all other categorical features, remove values < -1\n",
    "\n",
    "    def utilization(row):\n",
    "        return row['OBTOTV15'] + row['OPTOTV15'] + row['ERTOT15'] + row['IPNGTD15'] + row['HHTOTD15']\n",
    "\n",
    "    df['TOTEXP15'] = df.apply(lambda row: utilization(row), axis=1)\n",
    "    lessE = df['TOTEXP15'] < 10.0\n",
    "    df.loc[lessE,'TOTEXP15'] = 0.0\n",
    "    moreE = df['TOTEXP15'] >= 10.0\n",
    "    df.loc[moreE,'TOTEXP15'] = 1.0\n",
    "\n",
    "    df = df.rename(columns = {'TOTEXP15' : 'UTILIZATION'})\n",
    "    return df"
   ]
  },
  {
   "cell_type": "markdown",
   "id": "65c23a2c-9148-466c-8400-64f425d2e53f",
   "metadata": {},
   "source": [
    "#### Taken from pre-processing scripts to retain same columns used in model development for tutorial"
   ]
  },
  {
   "cell_type": "code",
   "execution_count": 5,
   "id": "30c6d234-d213-4bda-96c2-e11605af0526",
   "metadata": {},
   "outputs": [],
   "source": [
    "label_name='UTILIZATION'\n",
    "favorable_classes=[1.0]\n",
    "protected_attribute_names=['RACE']\n",
    "privileged_classes=[['White']]\n",
    "instance_weights_name='PERWT15F'\n",
    "categorical_features=['REGION','SEX','MARRY',\n",
    "                                 'FTSTU','ACTDTY','HONRDC','RTHLTH','MNHLTH','HIBPDX','CHDDX','ANGIDX',\n",
    "                                 'MIDX','OHRTDX','STRKDX','EMPHDX','CHBRON','CHOLDX','CANCERDX','DIABDX',\n",
    "                                 'JTPAIN','ARTHDX','ARTHTYPE','ASTHDX','ADHDADDX','PREGNT','WLKLIM',\n",
    "                                 'ACTLIM','SOCLIM','COGLIM','DFHEAR42','DFSEE42', 'ADSMOK42', 'PHQ242',\n",
    "                                 'EMPST','POVCAT','INSCOV']\n",
    "\n",
    "features_to_keep=['REGION','AGE','SEX','RACE','MARRY',\n",
    "                                 'FTSTU','ACTDTY','HONRDC','RTHLTH','MNHLTH','HIBPDX','CHDDX','ANGIDX',\n",
    "                                 'MIDX','OHRTDX','STRKDX','EMPHDX','CHBRON','CHOLDX','CANCERDX','DIABDX',\n",
    "                                 'JTPAIN','ARTHDX','ARTHTYPE','ASTHDX','ADHDADDX','PREGNT','WLKLIM',\n",
    "                                 'ACTLIM','SOCLIM','COGLIM','DFHEAR42','DFSEE42', 'ADSMOK42',\n",
    "                                 'PCS42','MCS42','K6SUM42','PHQ242','EMPST','POVCAT','INSCOV','UTILIZATION', 'PERWT15F']\n",
    "features_to_drop=[]\n",
    "na_values=[]\n",
    "# custom_preprocessing=default_preprocessing <- don't need this yet for EDA\n",
    "metadata=default_mappings\n"
   ]
  },
  {
   "cell_type": "markdown",
   "id": "83c2e7d5-b7b6-4af2-a067-25a1102f1e1b",
   "metadata": {},
   "source": [
    "We encourage you to search through the repository and take a look at these scripts, \n",
    "they can be found in `../aif360/dataset/` in your forked AIF360 repository:\n",
    "* AIF360/aif360/datasets/meps_dataset_panel19_fy2015.py\n",
    "* AIF360/aif360/datasets/meps_dataset_panel20_fy2015.py\n",
    "\n",
    "To Explore the `Utilization` and `RACE` features, and the variables used to impute these features:\n",
    "* See the corresponding [HC 181 Codebook](https://meps.ahrq.gov/mepsweb/data_stats/download_data_files_detail.jsp?cboPufNumber=HC-181) for information on variables."
   ]
  },
  {
   "cell_type": "code",
   "execution_count": 6,
   "id": "ebc7d333-0247-4e92-a550-5f28a6739752",
   "metadata": {},
   "outputs": [],
   "source": [
    "df_panel_19 = default_preprocessing19(raw_181)\n",
    "df_panel_19_reduced = df_panel_19[features_to_keep]"
   ]
  },
  {
   "cell_type": "code",
   "execution_count": 7,
   "id": "b2602e0e-e24e-4362-b378-6a1d2b24baff",
   "metadata": {},
   "outputs": [],
   "source": [
    "df_panel_20 = default_preprocessing20(raw_181)\n",
    "df_panel_20_reduced = df_panel_20[features_to_keep]"
   ]
  },
  {
   "cell_type": "code",
   "execution_count": 8,
   "id": "3ccad607-d831-432b-b182-14dddc959a88",
   "metadata": {},
   "outputs": [],
   "source": [
    "#### END OF PRE-PROCRESSING ####"
   ]
  },
  {
   "cell_type": "markdown",
   "id": "4e18fec6",
   "metadata": {
    "tags": []
   },
   "source": [
    "#### 2.2 Data shape and features"
   ]
  },
  {
   "cell_type": "markdown",
   "id": "8234fba8",
   "metadata": {},
   "source": [
    "First thing is we want to check the dimensions of the dataset."
   ]
  },
  {
   "cell_type": "code",
   "execution_count": 9,
   "id": "c16e7d10-db43-4bfb-b8b5-14d79da573f8",
   "metadata": {},
   "outputs": [
    {
     "name": "stdout",
     "output_type": "stream",
     "text": [
      "(15830, 43)\n"
     ]
    }
   ],
   "source": [
    "print(df_panel_19_reduced.shape)"
   ]
  },
  {
   "cell_type": "markdown",
   "id": "01648ec6",
   "metadata": {},
   "source": [
    "Also we want to view the column names:"
   ]
  },
  {
   "cell_type": "code",
   "execution_count": 10,
   "id": "3e602c93-d281-4821-8b1c-67125238a1a1",
   "metadata": {},
   "outputs": [
    {
     "name": "stdout",
     "output_type": "stream",
     "text": [
      "Index(['REGION', 'AGE', 'SEX', 'RACE', 'MARRY', 'FTSTU', 'ACTDTY', 'HONRDC',\n",
      "       'RTHLTH', 'MNHLTH', 'HIBPDX', 'CHDDX', 'ANGIDX', 'MIDX', 'OHRTDX',\n",
      "       'STRKDX', 'EMPHDX', 'CHBRON', 'CHOLDX', 'CANCERDX', 'DIABDX', 'JTPAIN',\n",
      "       'ARTHDX', 'ARTHTYPE', 'ASTHDX', 'ADHDADDX', 'PREGNT', 'WLKLIM',\n",
      "       'ACTLIM', 'SOCLIM', 'COGLIM', 'DFHEAR42', 'DFSEE42', 'ADSMOK42',\n",
      "       'PCS42', 'MCS42', 'K6SUM42', 'PHQ242', 'EMPST', 'POVCAT', 'INSCOV',\n",
      "       'UTILIZATION', 'PERWT15F'],\n",
      "      dtype='object')\n"
     ]
    }
   ],
   "source": [
    "print(df_panel_19_reduced.columns)"
   ]
  },
  {
   "cell_type": "markdown",
   "id": "9fa73cbb",
   "metadata": {},
   "source": [
    "Get an overview of the dataset - top five"
   ]
  },
  {
   "cell_type": "code",
   "execution_count": 11,
   "id": "5b21a841",
   "metadata": {},
   "outputs": [
    {
     "data": {
      "text/html": [
       "<div>\n",
       "<style scoped>\n",
       "    .dataframe tbody tr th:only-of-type {\n",
       "        vertical-align: middle;\n",
       "    }\n",
       "\n",
       "    .dataframe tbody tr th {\n",
       "        vertical-align: top;\n",
       "    }\n",
       "\n",
       "    .dataframe thead th {\n",
       "        text-align: right;\n",
       "    }\n",
       "</style>\n",
       "<table border=\"1\" class=\"dataframe\">\n",
       "  <thead>\n",
       "    <tr style=\"text-align: right;\">\n",
       "      <th></th>\n",
       "      <th>REGION</th>\n",
       "      <th>AGE</th>\n",
       "      <th>SEX</th>\n",
       "      <th>RACE</th>\n",
       "      <th>MARRY</th>\n",
       "      <th>FTSTU</th>\n",
       "      <th>ACTDTY</th>\n",
       "      <th>HONRDC</th>\n",
       "      <th>RTHLTH</th>\n",
       "      <th>MNHLTH</th>\n",
       "      <th>...</th>\n",
       "      <th>ADSMOK42</th>\n",
       "      <th>PCS42</th>\n",
       "      <th>MCS42</th>\n",
       "      <th>K6SUM42</th>\n",
       "      <th>PHQ242</th>\n",
       "      <th>EMPST</th>\n",
       "      <th>POVCAT</th>\n",
       "      <th>INSCOV</th>\n",
       "      <th>UTILIZATION</th>\n",
       "      <th>PERWT15F</th>\n",
       "    </tr>\n",
       "  </thead>\n",
       "  <tbody>\n",
       "    <tr>\n",
       "      <th>0</th>\n",
       "      <td>2</td>\n",
       "      <td>53</td>\n",
       "      <td>1</td>\n",
       "      <td>Non-White</td>\n",
       "      <td>5</td>\n",
       "      <td>-1</td>\n",
       "      <td>2</td>\n",
       "      <td>2</td>\n",
       "      <td>4</td>\n",
       "      <td>3</td>\n",
       "      <td>...</td>\n",
       "      <td>2</td>\n",
       "      <td>25.93</td>\n",
       "      <td>58.47</td>\n",
       "      <td>3</td>\n",
       "      <td>0</td>\n",
       "      <td>4</td>\n",
       "      <td>1</td>\n",
       "      <td>2</td>\n",
       "      <td>1</td>\n",
       "      <td>21854.981705</td>\n",
       "    </tr>\n",
       "    <tr>\n",
       "      <th>1</th>\n",
       "      <td>2</td>\n",
       "      <td>56</td>\n",
       "      <td>2</td>\n",
       "      <td>Non-White</td>\n",
       "      <td>3</td>\n",
       "      <td>-1</td>\n",
       "      <td>2</td>\n",
       "      <td>2</td>\n",
       "      <td>4</td>\n",
       "      <td>3</td>\n",
       "      <td>...</td>\n",
       "      <td>2</td>\n",
       "      <td>20.42</td>\n",
       "      <td>26.57</td>\n",
       "      <td>17</td>\n",
       "      <td>6</td>\n",
       "      <td>4</td>\n",
       "      <td>3</td>\n",
       "      <td>2</td>\n",
       "      <td>1</td>\n",
       "      <td>18169.604822</td>\n",
       "    </tr>\n",
       "    <tr>\n",
       "      <th>3</th>\n",
       "      <td>2</td>\n",
       "      <td>23</td>\n",
       "      <td>2</td>\n",
       "      <td>Non-White</td>\n",
       "      <td>5</td>\n",
       "      <td>3</td>\n",
       "      <td>2</td>\n",
       "      <td>2</td>\n",
       "      <td>1</td>\n",
       "      <td>1</td>\n",
       "      <td>...</td>\n",
       "      <td>2</td>\n",
       "      <td>53.12</td>\n",
       "      <td>50.33</td>\n",
       "      <td>7</td>\n",
       "      <td>0</td>\n",
       "      <td>1</td>\n",
       "      <td>2</td>\n",
       "      <td>2</td>\n",
       "      <td>0</td>\n",
       "      <td>17191.832515</td>\n",
       "    </tr>\n",
       "    <tr>\n",
       "      <th>4</th>\n",
       "      <td>2</td>\n",
       "      <td>3</td>\n",
       "      <td>1</td>\n",
       "      <td>Non-White</td>\n",
       "      <td>6</td>\n",
       "      <td>-1</td>\n",
       "      <td>3</td>\n",
       "      <td>3</td>\n",
       "      <td>1</td>\n",
       "      <td>3</td>\n",
       "      <td>...</td>\n",
       "      <td>-1</td>\n",
       "      <td>-1.00</td>\n",
       "      <td>-1.00</td>\n",
       "      <td>-1</td>\n",
       "      <td>-1</td>\n",
       "      <td>-1</td>\n",
       "      <td>2</td>\n",
       "      <td>2</td>\n",
       "      <td>0</td>\n",
       "      <td>20261.485463</td>\n",
       "    </tr>\n",
       "    <tr>\n",
       "      <th>5</th>\n",
       "      <td>3</td>\n",
       "      <td>27</td>\n",
       "      <td>1</td>\n",
       "      <td>None</td>\n",
       "      <td>1</td>\n",
       "      <td>-1</td>\n",
       "      <td>1</td>\n",
       "      <td>4</td>\n",
       "      <td>2</td>\n",
       "      <td>1</td>\n",
       "      <td>...</td>\n",
       "      <td>-1</td>\n",
       "      <td>-1.00</td>\n",
       "      <td>-1.00</td>\n",
       "      <td>-1</td>\n",
       "      <td>-1</td>\n",
       "      <td>1</td>\n",
       "      <td>3</td>\n",
       "      <td>1</td>\n",
       "      <td>0</td>\n",
       "      <td>0.000000</td>\n",
       "    </tr>\n",
       "  </tbody>\n",
       "</table>\n",
       "<p>5 rows × 43 columns</p>\n",
       "</div>"
      ],
      "text/plain": [
       "   REGION  AGE  SEX       RACE  MARRY  FTSTU  ACTDTY  HONRDC  RTHLTH  MNHLTH  \\\n",
       "0       2   53    1  Non-White      5     -1       2       2       4       3   \n",
       "1       2   56    2  Non-White      3     -1       2       2       4       3   \n",
       "3       2   23    2  Non-White      5      3       2       2       1       1   \n",
       "4       2    3    1  Non-White      6     -1       3       3       1       3   \n",
       "5       3   27    1       None      1     -1       1       4       2       1   \n",
       "\n",
       "   ...  ADSMOK42  PCS42  MCS42  K6SUM42  PHQ242  EMPST  POVCAT  INSCOV  \\\n",
       "0  ...         2  25.93  58.47        3       0      4       1       2   \n",
       "1  ...         2  20.42  26.57       17       6      4       3       2   \n",
       "3  ...         2  53.12  50.33        7       0      1       2       2   \n",
       "4  ...        -1  -1.00  -1.00       -1      -1     -1       2       2   \n",
       "5  ...        -1  -1.00  -1.00       -1      -1      1       3       1   \n",
       "\n",
       "   UTILIZATION      PERWT15F  \n",
       "0            1  21854.981705  \n",
       "1            1  18169.604822  \n",
       "3            0  17191.832515  \n",
       "4            0  20261.485463  \n",
       "5            0      0.000000  \n",
       "\n",
       "[5 rows x 43 columns]"
      ]
     },
     "execution_count": 11,
     "metadata": {},
     "output_type": "execute_result"
    }
   ],
   "source": [
    "df_panel_19_reduced.head()"
   ]
  },
  {
   "cell_type": "markdown",
   "id": "38161920",
   "metadata": {},
   "source": [
    "Get an overview of the dataset - bottom five"
   ]
  },
  {
   "cell_type": "code",
   "execution_count": 12,
   "id": "1352ada2",
   "metadata": {},
   "outputs": [
    {
     "data": {
      "text/html": [
       "<div>\n",
       "<style scoped>\n",
       "    .dataframe tbody tr th:only-of-type {\n",
       "        vertical-align: middle;\n",
       "    }\n",
       "\n",
       "    .dataframe tbody tr th {\n",
       "        vertical-align: top;\n",
       "    }\n",
       "\n",
       "    .dataframe thead th {\n",
       "        text-align: right;\n",
       "    }\n",
       "</style>\n",
       "<table border=\"1\" class=\"dataframe\">\n",
       "  <thead>\n",
       "    <tr style=\"text-align: right;\">\n",
       "      <th></th>\n",
       "      <th>REGION</th>\n",
       "      <th>AGE</th>\n",
       "      <th>SEX</th>\n",
       "      <th>RACE</th>\n",
       "      <th>MARRY</th>\n",
       "      <th>FTSTU</th>\n",
       "      <th>ACTDTY</th>\n",
       "      <th>HONRDC</th>\n",
       "      <th>RTHLTH</th>\n",
       "      <th>MNHLTH</th>\n",
       "      <th>...</th>\n",
       "      <th>ADSMOK42</th>\n",
       "      <th>PCS42</th>\n",
       "      <th>MCS42</th>\n",
       "      <th>K6SUM42</th>\n",
       "      <th>PHQ242</th>\n",
       "      <th>EMPST</th>\n",
       "      <th>POVCAT</th>\n",
       "      <th>INSCOV</th>\n",
       "      <th>UTILIZATION</th>\n",
       "      <th>PERWT15F</th>\n",
       "    </tr>\n",
       "  </thead>\n",
       "  <tbody>\n",
       "    <tr>\n",
       "      <th>16573</th>\n",
       "      <td>3</td>\n",
       "      <td>25</td>\n",
       "      <td>1</td>\n",
       "      <td>None</td>\n",
       "      <td>1</td>\n",
       "      <td>-1</td>\n",
       "      <td>2</td>\n",
       "      <td>2</td>\n",
       "      <td>1</td>\n",
       "      <td>1</td>\n",
       "      <td>...</td>\n",
       "      <td>2</td>\n",
       "      <td>56.71</td>\n",
       "      <td>62.39</td>\n",
       "      <td>0</td>\n",
       "      <td>0</td>\n",
       "      <td>1</td>\n",
       "      <td>1</td>\n",
       "      <td>1</td>\n",
       "      <td>0</td>\n",
       "      <td>4111.315754</td>\n",
       "    </tr>\n",
       "    <tr>\n",
       "      <th>16574</th>\n",
       "      <td>3</td>\n",
       "      <td>25</td>\n",
       "      <td>2</td>\n",
       "      <td>None</td>\n",
       "      <td>1</td>\n",
       "      <td>-1</td>\n",
       "      <td>2</td>\n",
       "      <td>2</td>\n",
       "      <td>1</td>\n",
       "      <td>1</td>\n",
       "      <td>...</td>\n",
       "      <td>2</td>\n",
       "      <td>56.71</td>\n",
       "      <td>62.39</td>\n",
       "      <td>0</td>\n",
       "      <td>0</td>\n",
       "      <td>4</td>\n",
       "      <td>1</td>\n",
       "      <td>1</td>\n",
       "      <td>0</td>\n",
       "      <td>5415.228173</td>\n",
       "    </tr>\n",
       "    <tr>\n",
       "      <th>16575</th>\n",
       "      <td>3</td>\n",
       "      <td>2</td>\n",
       "      <td>2</td>\n",
       "      <td>Non-White</td>\n",
       "      <td>6</td>\n",
       "      <td>-1</td>\n",
       "      <td>3</td>\n",
       "      <td>3</td>\n",
       "      <td>1</td>\n",
       "      <td>1</td>\n",
       "      <td>...</td>\n",
       "      <td>-1</td>\n",
       "      <td>-1.00</td>\n",
       "      <td>-1.00</td>\n",
       "      <td>-1</td>\n",
       "      <td>-1</td>\n",
       "      <td>-1</td>\n",
       "      <td>1</td>\n",
       "      <td>2</td>\n",
       "      <td>0</td>\n",
       "      <td>3896.116219</td>\n",
       "    </tr>\n",
       "    <tr>\n",
       "      <th>16576</th>\n",
       "      <td>1</td>\n",
       "      <td>54</td>\n",
       "      <td>2</td>\n",
       "      <td>None</td>\n",
       "      <td>3</td>\n",
       "      <td>-1</td>\n",
       "      <td>2</td>\n",
       "      <td>2</td>\n",
       "      <td>1</td>\n",
       "      <td>1</td>\n",
       "      <td>...</td>\n",
       "      <td>2</td>\n",
       "      <td>43.97</td>\n",
       "      <td>42.45</td>\n",
       "      <td>24</td>\n",
       "      <td>0</td>\n",
       "      <td>1</td>\n",
       "      <td>3</td>\n",
       "      <td>2</td>\n",
       "      <td>0</td>\n",
       "      <td>4883.851005</td>\n",
       "    </tr>\n",
       "    <tr>\n",
       "      <th>16577</th>\n",
       "      <td>1</td>\n",
       "      <td>73</td>\n",
       "      <td>2</td>\n",
       "      <td>None</td>\n",
       "      <td>2</td>\n",
       "      <td>-1</td>\n",
       "      <td>4</td>\n",
       "      <td>2</td>\n",
       "      <td>2</td>\n",
       "      <td>1</td>\n",
       "      <td>...</td>\n",
       "      <td>2</td>\n",
       "      <td>42.68</td>\n",
       "      <td>43.46</td>\n",
       "      <td>0</td>\n",
       "      <td>0</td>\n",
       "      <td>4</td>\n",
       "      <td>3</td>\n",
       "      <td>2</td>\n",
       "      <td>0</td>\n",
       "      <td>6630.588948</td>\n",
       "    </tr>\n",
       "  </tbody>\n",
       "</table>\n",
       "<p>5 rows × 43 columns</p>\n",
       "</div>"
      ],
      "text/plain": [
       "       REGION  AGE  SEX       RACE  MARRY  FTSTU  ACTDTY  HONRDC  RTHLTH  \\\n",
       "16573       3   25    1       None      1     -1       2       2       1   \n",
       "16574       3   25    2       None      1     -1       2       2       1   \n",
       "16575       3    2    2  Non-White      6     -1       3       3       1   \n",
       "16576       1   54    2       None      3     -1       2       2       1   \n",
       "16577       1   73    2       None      2     -1       4       2       2   \n",
       "\n",
       "       MNHLTH  ...  ADSMOK42  PCS42  MCS42  K6SUM42  PHQ242  EMPST  POVCAT  \\\n",
       "16573       1  ...         2  56.71  62.39        0       0      1       1   \n",
       "16574       1  ...         2  56.71  62.39        0       0      4       1   \n",
       "16575       1  ...        -1  -1.00  -1.00       -1      -1     -1       1   \n",
       "16576       1  ...         2  43.97  42.45       24       0      1       3   \n",
       "16577       1  ...         2  42.68  43.46        0       0      4       3   \n",
       "\n",
       "       INSCOV  UTILIZATION     PERWT15F  \n",
       "16573       1            0  4111.315754  \n",
       "16574       1            0  5415.228173  \n",
       "16575       2            0  3896.116219  \n",
       "16576       2            0  4883.851005  \n",
       "16577       2            0  6630.588948  \n",
       "\n",
       "[5 rows x 43 columns]"
      ]
     },
     "execution_count": 12,
     "metadata": {},
     "output_type": "execute_result"
    }
   ],
   "source": [
    "df_panel_19_reduced.tail()"
   ]
  },
  {
   "cell_type": "markdown",
   "id": "ac61c718",
   "metadata": {},
   "source": [
    "We can view the summary statistics of numerical columns with df.describe() method. It enable us to detect outliers in the data which require further investigation."
   ]
  },
  {
   "cell_type": "code",
   "execution_count": 13,
   "id": "60ff375f",
   "metadata": {},
   "outputs": [
    {
     "data": {
      "text/html": [
       "<div>\n",
       "<style scoped>\n",
       "    .dataframe tbody tr th:only-of-type {\n",
       "        vertical-align: middle;\n",
       "    }\n",
       "\n",
       "    .dataframe tbody tr th {\n",
       "        vertical-align: top;\n",
       "    }\n",
       "\n",
       "    .dataframe thead th {\n",
       "        text-align: right;\n",
       "    }\n",
       "</style>\n",
       "<table border=\"1\" class=\"dataframe\">\n",
       "  <thead>\n",
       "    <tr style=\"text-align: right;\">\n",
       "      <th></th>\n",
       "      <th>REGION</th>\n",
       "      <th>AGE</th>\n",
       "      <th>SEX</th>\n",
       "      <th>MARRY</th>\n",
       "      <th>FTSTU</th>\n",
       "      <th>ACTDTY</th>\n",
       "      <th>HONRDC</th>\n",
       "      <th>RTHLTH</th>\n",
       "      <th>MNHLTH</th>\n",
       "      <th>HIBPDX</th>\n",
       "      <th>...</th>\n",
       "      <th>ADSMOK42</th>\n",
       "      <th>PCS42</th>\n",
       "      <th>MCS42</th>\n",
       "      <th>K6SUM42</th>\n",
       "      <th>PHQ242</th>\n",
       "      <th>EMPST</th>\n",
       "      <th>POVCAT</th>\n",
       "      <th>INSCOV</th>\n",
       "      <th>UTILIZATION</th>\n",
       "      <th>PERWT15F</th>\n",
       "    </tr>\n",
       "  </thead>\n",
       "  <tbody>\n",
       "    <tr>\n",
       "      <th>count</th>\n",
       "      <td>15830.000000</td>\n",
       "      <td>15830.000000</td>\n",
       "      <td>15830.000000</td>\n",
       "      <td>15830.000000</td>\n",
       "      <td>15830.000000</td>\n",
       "      <td>15830.000000</td>\n",
       "      <td>15830.000000</td>\n",
       "      <td>15830.000000</td>\n",
       "      <td>15830.000000</td>\n",
       "      <td>15830.000000</td>\n",
       "      <td>...</td>\n",
       "      <td>15830.000000</td>\n",
       "      <td>15830.000000</td>\n",
       "      <td>15830.000000</td>\n",
       "      <td>15830.000000</td>\n",
       "      <td>15830.000000</td>\n",
       "      <td>15830.000000</td>\n",
       "      <td>15830.000000</td>\n",
       "      <td>15830.000000</td>\n",
       "      <td>15830.000000</td>\n",
       "      <td>15830.000000</td>\n",
       "    </tr>\n",
       "    <tr>\n",
       "      <th>mean</th>\n",
       "      <td>2.825584</td>\n",
       "      <td>35.090461</td>\n",
       "      <td>1.521162</td>\n",
       "      <td>3.661213</td>\n",
       "      <td>-0.720088</td>\n",
       "      <td>2.581364</td>\n",
       "      <td>2.224889</td>\n",
       "      <td>2.187871</td>\n",
       "      <td>1.993051</td>\n",
       "      <td>0.918067</td>\n",
       "      <td>...</td>\n",
       "      <td>0.726153</td>\n",
       "      <td>29.358455</td>\n",
       "      <td>30.851517</td>\n",
       "      <td>1.274289</td>\n",
       "      <td>-0.003853</td>\n",
       "      <td>1.375426</td>\n",
       "      <td>3.298547</td>\n",
       "      <td>1.585344</td>\n",
       "      <td>0.171699</td>\n",
       "      <td>8930.337369</td>\n",
       "    </tr>\n",
       "    <tr>\n",
       "      <th>std</th>\n",
       "      <td>1.002033</td>\n",
       "      <td>22.475549</td>\n",
       "      <td>0.499568</td>\n",
       "      <td>2.121255</td>\n",
       "      <td>0.910025</td>\n",
       "      <td>0.758747</td>\n",
       "      <td>0.512242</td>\n",
       "      <td>1.054677</td>\n",
       "      <td>1.002657</td>\n",
       "      <td>1.267763</td>\n",
       "      <td>...</td>\n",
       "      <td>1.419339</td>\n",
       "      <td>25.996522</td>\n",
       "      <td>26.968146</td>\n",
       "      <td>3.955331</td>\n",
       "      <td>1.278136</td>\n",
       "      <td>1.854929</td>\n",
       "      <td>1.476351</td>\n",
       "      <td>0.688718</td>\n",
       "      <td>0.377131</td>\n",
       "      <td>8521.260446</td>\n",
       "    </tr>\n",
       "    <tr>\n",
       "      <th>min</th>\n",
       "      <td>1.000000</td>\n",
       "      <td>0.000000</td>\n",
       "      <td>1.000000</td>\n",
       "      <td>1.000000</td>\n",
       "      <td>-1.000000</td>\n",
       "      <td>1.000000</td>\n",
       "      <td>1.000000</td>\n",
       "      <td>-1.000000</td>\n",
       "      <td>-1.000000</td>\n",
       "      <td>-1.000000</td>\n",
       "      <td>...</td>\n",
       "      <td>-1.000000</td>\n",
       "      <td>-9.000000</td>\n",
       "      <td>-9.000000</td>\n",
       "      <td>-9.000000</td>\n",
       "      <td>-1.000000</td>\n",
       "      <td>-1.000000</td>\n",
       "      <td>1.000000</td>\n",
       "      <td>1.000000</td>\n",
       "      <td>0.000000</td>\n",
       "      <td>0.000000</td>\n",
       "    </tr>\n",
       "    <tr>\n",
       "      <th>25%</th>\n",
       "      <td>2.000000</td>\n",
       "      <td>15.000000</td>\n",
       "      <td>1.000000</td>\n",
       "      <td>1.000000</td>\n",
       "      <td>-1.000000</td>\n",
       "      <td>2.000000</td>\n",
       "      <td>2.000000</td>\n",
       "      <td>1.000000</td>\n",
       "      <td>1.000000</td>\n",
       "      <td>-1.000000</td>\n",
       "      <td>...</td>\n",
       "      <td>-1.000000</td>\n",
       "      <td>-1.000000</td>\n",
       "      <td>-1.000000</td>\n",
       "      <td>-1.000000</td>\n",
       "      <td>-1.000000</td>\n",
       "      <td>-1.000000</td>\n",
       "      <td>2.000000</td>\n",
       "      <td>1.000000</td>\n",
       "      <td>0.000000</td>\n",
       "      <td>3428.548713</td>\n",
       "    </tr>\n",
       "    <tr>\n",
       "      <th>50%</th>\n",
       "      <td>3.000000</td>\n",
       "      <td>33.000000</td>\n",
       "      <td>2.000000</td>\n",
       "      <td>5.000000</td>\n",
       "      <td>-1.000000</td>\n",
       "      <td>2.000000</td>\n",
       "      <td>2.000000</td>\n",
       "      <td>2.000000</td>\n",
       "      <td>2.000000</td>\n",
       "      <td>1.000000</td>\n",
       "      <td>...</td>\n",
       "      <td>2.000000</td>\n",
       "      <td>39.505000</td>\n",
       "      <td>42.480000</td>\n",
       "      <td>0.000000</td>\n",
       "      <td>0.000000</td>\n",
       "      <td>1.000000</td>\n",
       "      <td>4.000000</td>\n",
       "      <td>1.000000</td>\n",
       "      <td>0.000000</td>\n",
       "      <td>6146.458935</td>\n",
       "    </tr>\n",
       "    <tr>\n",
       "      <th>75%</th>\n",
       "      <td>4.000000</td>\n",
       "      <td>53.000000</td>\n",
       "      <td>2.000000</td>\n",
       "      <td>6.000000</td>\n",
       "      <td>-1.000000</td>\n",
       "      <td>3.000000</td>\n",
       "      <td>3.000000</td>\n",
       "      <td>3.000000</td>\n",
       "      <td>3.000000</td>\n",
       "      <td>2.000000</td>\n",
       "      <td>...</td>\n",
       "      <td>2.000000</td>\n",
       "      <td>54.800000</td>\n",
       "      <td>56.580000</td>\n",
       "      <td>2.000000</td>\n",
       "      <td>0.000000</td>\n",
       "      <td>4.000000</td>\n",
       "      <td>5.000000</td>\n",
       "      <td>2.000000</td>\n",
       "      <td>0.000000</td>\n",
       "      <td>11749.810086</td>\n",
       "    </tr>\n",
       "    <tr>\n",
       "      <th>max</th>\n",
       "      <td>4.000000</td>\n",
       "      <td>85.000000</td>\n",
       "      <td>2.000000</td>\n",
       "      <td>10.000000</td>\n",
       "      <td>3.000000</td>\n",
       "      <td>4.000000</td>\n",
       "      <td>4.000000</td>\n",
       "      <td>5.000000</td>\n",
       "      <td>5.000000</td>\n",
       "      <td>2.000000</td>\n",
       "      <td>...</td>\n",
       "      <td>2.000000</td>\n",
       "      <td>72.070000</td>\n",
       "      <td>75.510000</td>\n",
       "      <td>24.000000</td>\n",
       "      <td>6.000000</td>\n",
       "      <td>4.000000</td>\n",
       "      <td>5.000000</td>\n",
       "      <td>3.000000</td>\n",
       "      <td>1.000000</td>\n",
       "      <td>94264.071559</td>\n",
       "    </tr>\n",
       "  </tbody>\n",
       "</table>\n",
       "<p>8 rows × 42 columns</p>\n",
       "</div>"
      ],
      "text/plain": [
       "             REGION           AGE           SEX         MARRY         FTSTU  \\\n",
       "count  15830.000000  15830.000000  15830.000000  15830.000000  15830.000000   \n",
       "mean       2.825584     35.090461      1.521162      3.661213     -0.720088   \n",
       "std        1.002033     22.475549      0.499568      2.121255      0.910025   \n",
       "min        1.000000      0.000000      1.000000      1.000000     -1.000000   \n",
       "25%        2.000000     15.000000      1.000000      1.000000     -1.000000   \n",
       "50%        3.000000     33.000000      2.000000      5.000000     -1.000000   \n",
       "75%        4.000000     53.000000      2.000000      6.000000     -1.000000   \n",
       "max        4.000000     85.000000      2.000000     10.000000      3.000000   \n",
       "\n",
       "             ACTDTY        HONRDC        RTHLTH        MNHLTH        HIBPDX  \\\n",
       "count  15830.000000  15830.000000  15830.000000  15830.000000  15830.000000   \n",
       "mean       2.581364      2.224889      2.187871      1.993051      0.918067   \n",
       "std        0.758747      0.512242      1.054677      1.002657      1.267763   \n",
       "min        1.000000      1.000000     -1.000000     -1.000000     -1.000000   \n",
       "25%        2.000000      2.000000      1.000000      1.000000     -1.000000   \n",
       "50%        2.000000      2.000000      2.000000      2.000000      1.000000   \n",
       "75%        3.000000      3.000000      3.000000      3.000000      2.000000   \n",
       "max        4.000000      4.000000      5.000000      5.000000      2.000000   \n",
       "\n",
       "       ...      ADSMOK42         PCS42         MCS42       K6SUM42  \\\n",
       "count  ...  15830.000000  15830.000000  15830.000000  15830.000000   \n",
       "mean   ...      0.726153     29.358455     30.851517      1.274289   \n",
       "std    ...      1.419339     25.996522     26.968146      3.955331   \n",
       "min    ...     -1.000000     -9.000000     -9.000000     -9.000000   \n",
       "25%    ...     -1.000000     -1.000000     -1.000000     -1.000000   \n",
       "50%    ...      2.000000     39.505000     42.480000      0.000000   \n",
       "75%    ...      2.000000     54.800000     56.580000      2.000000   \n",
       "max    ...      2.000000     72.070000     75.510000     24.000000   \n",
       "\n",
       "             PHQ242         EMPST        POVCAT        INSCOV   UTILIZATION  \\\n",
       "count  15830.000000  15830.000000  15830.000000  15830.000000  15830.000000   \n",
       "mean      -0.003853      1.375426      3.298547      1.585344      0.171699   \n",
       "std        1.278136      1.854929      1.476351      0.688718      0.377131   \n",
       "min       -1.000000     -1.000000      1.000000      1.000000      0.000000   \n",
       "25%       -1.000000     -1.000000      2.000000      1.000000      0.000000   \n",
       "50%        0.000000      1.000000      4.000000      1.000000      0.000000   \n",
       "75%        0.000000      4.000000      5.000000      2.000000      0.000000   \n",
       "max        6.000000      4.000000      5.000000      3.000000      1.000000   \n",
       "\n",
       "           PERWT15F  \n",
       "count  15830.000000  \n",
       "mean    8930.337369  \n",
       "std     8521.260446  \n",
       "min        0.000000  \n",
       "25%     3428.548713  \n",
       "50%     6146.458935  \n",
       "75%    11749.810086  \n",
       "max    94264.071559  \n",
       "\n",
       "[8 rows x 42 columns]"
      ]
     },
     "execution_count": 13,
     "metadata": {},
     "output_type": "execute_result"
    }
   ],
   "source": [
    "df_panel_19_reduced.dtypes\n",
    "\n",
    "df_panel_19_reduced.describe()"
   ]
  },
  {
   "cell_type": "markdown",
   "id": "9a557b3b",
   "metadata": {},
   "source": [
    "**Looking at this data, here are the key conclusions we can draw:**\n",
    "\n",
    "1. Demographics:\n",
    "    - The average age is around 35 years, with a wide spread (std dev ≈ 22.5 years), suggesting a diverse age range\n",
    "    - There's a slightly higher proportion of one gender over another (mean of 1.52 for SEX, suggesting roughly 52% are coded as \"2\")\n",
    "    - People are spread across 4 regions, with a slight skew toward certain regions (mean 2.83)\n",
    "\n",
    "\n",
    "2. Marital Status:\n",
    "    - The MARRY variable shows significant variation (mean 3.66, std dev 2.12)\n",
    "    - The range is 1-10, suggesting multiple categories for relationship status\n",
    "    - Most people fall in the lower categories (median = 5.0)"
   ]
  },
  {
   "cell_type": "markdown",
   "id": "c86f5f84",
   "metadata": {},
   "source": [
    "The marital status is kinda to grab our eyes so I want to dig more into this sepcify category.\n",
    "\n",
    "Here I have the data preparation step in analysis pipelines, making the data more structured and easier to analyze for age-related trends and patterns.\n",
    "\n",
    "First, it replaces all -1 values with NaN (Not a Number) to properly handle missing data, making it easier for statistical analysis and data manipulation. Second, it creates a new column 'AGE_GROUP' that categorizes ages into five meaningful groups (0-18, 19-35, 36-50, 51-65, 65+), which transforms the continuous age variable into categorical groups for better demographic analysis and trend identification."
   ]
  },
  {
   "cell_type": "code",
   "execution_count": 14,
   "id": "8fae45c4",
   "metadata": {},
   "outputs": [
    {
     "data": {
      "text/html": [
       "<div>\n",
       "<style scoped>\n",
       "    .dataframe tbody tr th:only-of-type {\n",
       "        vertical-align: middle;\n",
       "    }\n",
       "\n",
       "    .dataframe tbody tr th {\n",
       "        vertical-align: top;\n",
       "    }\n",
       "\n",
       "    .dataframe thead th {\n",
       "        text-align: right;\n",
       "    }\n",
       "</style>\n",
       "<table border=\"1\" class=\"dataframe\">\n",
       "  <thead>\n",
       "    <tr style=\"text-align: right;\">\n",
       "      <th></th>\n",
       "      <th>REGION</th>\n",
       "      <th>AGE</th>\n",
       "      <th>SEX</th>\n",
       "      <th>RACE</th>\n",
       "      <th>MARRY</th>\n",
       "      <th>FTSTU</th>\n",
       "      <th>ACTDTY</th>\n",
       "      <th>HONRDC</th>\n",
       "      <th>RTHLTH</th>\n",
       "      <th>MNHLTH</th>\n",
       "      <th>...</th>\n",
       "      <th>PCS42</th>\n",
       "      <th>MCS42</th>\n",
       "      <th>K6SUM42</th>\n",
       "      <th>PHQ242</th>\n",
       "      <th>EMPST</th>\n",
       "      <th>POVCAT</th>\n",
       "      <th>INSCOV</th>\n",
       "      <th>UTILIZATION</th>\n",
       "      <th>PERWT15F</th>\n",
       "      <th>AGE_GROUP</th>\n",
       "    </tr>\n",
       "  </thead>\n",
       "  <tbody>\n",
       "    <tr>\n",
       "      <th>0</th>\n",
       "      <td>2</td>\n",
       "      <td>53</td>\n",
       "      <td>1</td>\n",
       "      <td>Non-White</td>\n",
       "      <td>5</td>\n",
       "      <td>NaN</td>\n",
       "      <td>2</td>\n",
       "      <td>2</td>\n",
       "      <td>4.0</td>\n",
       "      <td>3.0</td>\n",
       "      <td>...</td>\n",
       "      <td>25.93</td>\n",
       "      <td>58.47</td>\n",
       "      <td>3.0</td>\n",
       "      <td>0.0</td>\n",
       "      <td>4.0</td>\n",
       "      <td>1</td>\n",
       "      <td>2</td>\n",
       "      <td>1</td>\n",
       "      <td>21854.981705</td>\n",
       "      <td>51-65</td>\n",
       "    </tr>\n",
       "    <tr>\n",
       "      <th>1</th>\n",
       "      <td>2</td>\n",
       "      <td>56</td>\n",
       "      <td>2</td>\n",
       "      <td>Non-White</td>\n",
       "      <td>3</td>\n",
       "      <td>NaN</td>\n",
       "      <td>2</td>\n",
       "      <td>2</td>\n",
       "      <td>4.0</td>\n",
       "      <td>3.0</td>\n",
       "      <td>...</td>\n",
       "      <td>20.42</td>\n",
       "      <td>26.57</td>\n",
       "      <td>17.0</td>\n",
       "      <td>6.0</td>\n",
       "      <td>4.0</td>\n",
       "      <td>3</td>\n",
       "      <td>2</td>\n",
       "      <td>1</td>\n",
       "      <td>18169.604822</td>\n",
       "      <td>51-65</td>\n",
       "    </tr>\n",
       "    <tr>\n",
       "      <th>3</th>\n",
       "      <td>2</td>\n",
       "      <td>23</td>\n",
       "      <td>2</td>\n",
       "      <td>Non-White</td>\n",
       "      <td>5</td>\n",
       "      <td>3.0</td>\n",
       "      <td>2</td>\n",
       "      <td>2</td>\n",
       "      <td>1.0</td>\n",
       "      <td>1.0</td>\n",
       "      <td>...</td>\n",
       "      <td>53.12</td>\n",
       "      <td>50.33</td>\n",
       "      <td>7.0</td>\n",
       "      <td>0.0</td>\n",
       "      <td>1.0</td>\n",
       "      <td>2</td>\n",
       "      <td>2</td>\n",
       "      <td>0</td>\n",
       "      <td>17191.832515</td>\n",
       "      <td>19-35</td>\n",
       "    </tr>\n",
       "    <tr>\n",
       "      <th>4</th>\n",
       "      <td>2</td>\n",
       "      <td>3</td>\n",
       "      <td>1</td>\n",
       "      <td>Non-White</td>\n",
       "      <td>6</td>\n",
       "      <td>NaN</td>\n",
       "      <td>3</td>\n",
       "      <td>3</td>\n",
       "      <td>1.0</td>\n",
       "      <td>3.0</td>\n",
       "      <td>...</td>\n",
       "      <td>NaN</td>\n",
       "      <td>NaN</td>\n",
       "      <td>NaN</td>\n",
       "      <td>NaN</td>\n",
       "      <td>NaN</td>\n",
       "      <td>2</td>\n",
       "      <td>2</td>\n",
       "      <td>0</td>\n",
       "      <td>20261.485463</td>\n",
       "      <td>0-18</td>\n",
       "    </tr>\n",
       "    <tr>\n",
       "      <th>5</th>\n",
       "      <td>3</td>\n",
       "      <td>27</td>\n",
       "      <td>1</td>\n",
       "      <td>None</td>\n",
       "      <td>1</td>\n",
       "      <td>NaN</td>\n",
       "      <td>1</td>\n",
       "      <td>4</td>\n",
       "      <td>2.0</td>\n",
       "      <td>1.0</td>\n",
       "      <td>...</td>\n",
       "      <td>NaN</td>\n",
       "      <td>NaN</td>\n",
       "      <td>NaN</td>\n",
       "      <td>NaN</td>\n",
       "      <td>1.0</td>\n",
       "      <td>3</td>\n",
       "      <td>1</td>\n",
       "      <td>0</td>\n",
       "      <td>0.000000</td>\n",
       "      <td>19-35</td>\n",
       "    </tr>\n",
       "    <tr>\n",
       "      <th>...</th>\n",
       "      <td>...</td>\n",
       "      <td>...</td>\n",
       "      <td>...</td>\n",
       "      <td>...</td>\n",
       "      <td>...</td>\n",
       "      <td>...</td>\n",
       "      <td>...</td>\n",
       "      <td>...</td>\n",
       "      <td>...</td>\n",
       "      <td>...</td>\n",
       "      <td>...</td>\n",
       "      <td>...</td>\n",
       "      <td>...</td>\n",
       "      <td>...</td>\n",
       "      <td>...</td>\n",
       "      <td>...</td>\n",
       "      <td>...</td>\n",
       "      <td>...</td>\n",
       "      <td>...</td>\n",
       "      <td>...</td>\n",
       "      <td>...</td>\n",
       "    </tr>\n",
       "    <tr>\n",
       "      <th>16573</th>\n",
       "      <td>3</td>\n",
       "      <td>25</td>\n",
       "      <td>1</td>\n",
       "      <td>None</td>\n",
       "      <td>1</td>\n",
       "      <td>NaN</td>\n",
       "      <td>2</td>\n",
       "      <td>2</td>\n",
       "      <td>1.0</td>\n",
       "      <td>1.0</td>\n",
       "      <td>...</td>\n",
       "      <td>56.71</td>\n",
       "      <td>62.39</td>\n",
       "      <td>0.0</td>\n",
       "      <td>0.0</td>\n",
       "      <td>1.0</td>\n",
       "      <td>1</td>\n",
       "      <td>1</td>\n",
       "      <td>0</td>\n",
       "      <td>4111.315754</td>\n",
       "      <td>19-35</td>\n",
       "    </tr>\n",
       "    <tr>\n",
       "      <th>16574</th>\n",
       "      <td>3</td>\n",
       "      <td>25</td>\n",
       "      <td>2</td>\n",
       "      <td>None</td>\n",
       "      <td>1</td>\n",
       "      <td>NaN</td>\n",
       "      <td>2</td>\n",
       "      <td>2</td>\n",
       "      <td>1.0</td>\n",
       "      <td>1.0</td>\n",
       "      <td>...</td>\n",
       "      <td>56.71</td>\n",
       "      <td>62.39</td>\n",
       "      <td>0.0</td>\n",
       "      <td>0.0</td>\n",
       "      <td>4.0</td>\n",
       "      <td>1</td>\n",
       "      <td>1</td>\n",
       "      <td>0</td>\n",
       "      <td>5415.228173</td>\n",
       "      <td>19-35</td>\n",
       "    </tr>\n",
       "    <tr>\n",
       "      <th>16575</th>\n",
       "      <td>3</td>\n",
       "      <td>2</td>\n",
       "      <td>2</td>\n",
       "      <td>Non-White</td>\n",
       "      <td>6</td>\n",
       "      <td>NaN</td>\n",
       "      <td>3</td>\n",
       "      <td>3</td>\n",
       "      <td>1.0</td>\n",
       "      <td>1.0</td>\n",
       "      <td>...</td>\n",
       "      <td>NaN</td>\n",
       "      <td>NaN</td>\n",
       "      <td>NaN</td>\n",
       "      <td>NaN</td>\n",
       "      <td>NaN</td>\n",
       "      <td>1</td>\n",
       "      <td>2</td>\n",
       "      <td>0</td>\n",
       "      <td>3896.116219</td>\n",
       "      <td>0-18</td>\n",
       "    </tr>\n",
       "    <tr>\n",
       "      <th>16576</th>\n",
       "      <td>1</td>\n",
       "      <td>54</td>\n",
       "      <td>2</td>\n",
       "      <td>None</td>\n",
       "      <td>3</td>\n",
       "      <td>NaN</td>\n",
       "      <td>2</td>\n",
       "      <td>2</td>\n",
       "      <td>1.0</td>\n",
       "      <td>1.0</td>\n",
       "      <td>...</td>\n",
       "      <td>43.97</td>\n",
       "      <td>42.45</td>\n",
       "      <td>24.0</td>\n",
       "      <td>0.0</td>\n",
       "      <td>1.0</td>\n",
       "      <td>3</td>\n",
       "      <td>2</td>\n",
       "      <td>0</td>\n",
       "      <td>4883.851005</td>\n",
       "      <td>51-65</td>\n",
       "    </tr>\n",
       "    <tr>\n",
       "      <th>16577</th>\n",
       "      <td>1</td>\n",
       "      <td>73</td>\n",
       "      <td>2</td>\n",
       "      <td>None</td>\n",
       "      <td>2</td>\n",
       "      <td>NaN</td>\n",
       "      <td>4</td>\n",
       "      <td>2</td>\n",
       "      <td>2.0</td>\n",
       "      <td>1.0</td>\n",
       "      <td>...</td>\n",
       "      <td>42.68</td>\n",
       "      <td>43.46</td>\n",
       "      <td>0.0</td>\n",
       "      <td>0.0</td>\n",
       "      <td>4.0</td>\n",
       "      <td>3</td>\n",
       "      <td>2</td>\n",
       "      <td>0</td>\n",
       "      <td>6630.588948</td>\n",
       "      <td>65+</td>\n",
       "    </tr>\n",
       "  </tbody>\n",
       "</table>\n",
       "<p>15830 rows × 44 columns</p>\n",
       "</div>"
      ],
      "text/plain": [
       "       REGION  AGE  SEX       RACE  MARRY  FTSTU  ACTDTY  HONRDC  RTHLTH  \\\n",
       "0           2   53    1  Non-White      5    NaN       2       2     4.0   \n",
       "1           2   56    2  Non-White      3    NaN       2       2     4.0   \n",
       "3           2   23    2  Non-White      5    3.0       2       2     1.0   \n",
       "4           2    3    1  Non-White      6    NaN       3       3     1.0   \n",
       "5           3   27    1       None      1    NaN       1       4     2.0   \n",
       "...       ...  ...  ...        ...    ...    ...     ...     ...     ...   \n",
       "16573       3   25    1       None      1    NaN       2       2     1.0   \n",
       "16574       3   25    2       None      1    NaN       2       2     1.0   \n",
       "16575       3    2    2  Non-White      6    NaN       3       3     1.0   \n",
       "16576       1   54    2       None      3    NaN       2       2     1.0   \n",
       "16577       1   73    2       None      2    NaN       4       2     2.0   \n",
       "\n",
       "       MNHLTH  ...  PCS42  MCS42  K6SUM42  PHQ242  EMPST  POVCAT  INSCOV  \\\n",
       "0         3.0  ...  25.93  58.47      3.0     0.0    4.0       1       2   \n",
       "1         3.0  ...  20.42  26.57     17.0     6.0    4.0       3       2   \n",
       "3         1.0  ...  53.12  50.33      7.0     0.0    1.0       2       2   \n",
       "4         3.0  ...    NaN    NaN      NaN     NaN    NaN       2       2   \n",
       "5         1.0  ...    NaN    NaN      NaN     NaN    1.0       3       1   \n",
       "...       ...  ...    ...    ...      ...     ...    ...     ...     ...   \n",
       "16573     1.0  ...  56.71  62.39      0.0     0.0    1.0       1       1   \n",
       "16574     1.0  ...  56.71  62.39      0.0     0.0    4.0       1       1   \n",
       "16575     1.0  ...    NaN    NaN      NaN     NaN    NaN       1       2   \n",
       "16576     1.0  ...  43.97  42.45     24.0     0.0    1.0       3       2   \n",
       "16577     1.0  ...  42.68  43.46      0.0     0.0    4.0       3       2   \n",
       "\n",
       "       UTILIZATION      PERWT15F  AGE_GROUP  \n",
       "0                1  21854.981705      51-65  \n",
       "1                1  18169.604822      51-65  \n",
       "3                0  17191.832515      19-35  \n",
       "4                0  20261.485463       0-18  \n",
       "5                0      0.000000      19-35  \n",
       "...            ...           ...        ...  \n",
       "16573            0   4111.315754      19-35  \n",
       "16574            0   5415.228173      19-35  \n",
       "16575            0   3896.116219       0-18  \n",
       "16576            0   4883.851005      51-65  \n",
       "16577            0   6630.588948        65+  \n",
       "\n",
       "[15830 rows x 44 columns]"
      ]
     },
     "execution_count": 14,
     "metadata": {},
     "output_type": "execute_result"
    }
   ],
   "source": [
    "# Replace -1 with NaN as it appears to be a missing value indicator\n",
    "df_panel_19_reduced = df_panel_19_reduced.replace(-1, np.nan)\n",
    "    \n",
    "# Create age groups for better analysis\n",
    "df_panel_19_reduced['AGE_GROUP'] = pd.cut(df_panel_19_reduced['AGE'], \n",
    "                            bins=[0, 18, 35, 50, 65, 100],\n",
    "                            labels=['0-18', '19-35', '36-50', '51-65', '65+'])\n",
    "\n",
    "df_panel_19_reduced"
   ]
  },
  {
   "cell_type": "markdown",
   "id": "14853527",
   "metadata": {},
   "source": [
    "Through these four graphs, we can see some interesting patterns in our population. \n",
    "\n",
    "The age distribution shows that we have participants across all age groups, with a larger concentration of people between 20-60 years old, and fewer participants in the very young and elderly categories. In terms of gender balance, the population is almost evenly split, with slightly more females (52.1%) than males (47.9%).\n",
    "\n",
    "\n",
    "The race data shows that all participants in this survey were classified as 'Non-White', which suggests this might be a focused study on a specific demographic group. This could also mean that Non-White was the only Non-Null race that was inputted. We will explore this further below. \n",
    "\n",
    "As for marriage status, we can see that categories 1, 5, and 6 are the most common in our dataset. Specifically, category 1 typically represents 'Married' individuals, category 5 refers to those who are 'Widowed', and category 6 denotes respondents under the age of 16, for whom marital status is deemed 'Inapplicable'. These categories help us understand the various relationship statuses within the surveyed population. \n",
    "\n",
    "These demographics suggest we're looking at a diverse adult population in terms of age and gender, but with specific racial characteristics, which should be considered when interpreting any broader findings from this survey."
   ]
  },
  {
   "cell_type": "code",
   "execution_count": 15,
   "id": "ef1772e0",
   "metadata": {},
   "outputs": [
    {
     "data": {
      "image/png": "[encoded data removed]",
      "text/plain": [
       "<Figure size 800x600 with 4 Axes>"
      ]
     },
     "metadata": {},
     "output_type": "display_data"
    }
   ],
   "source": [
    "def plot_demographic_distributions(df):\n",
    "    \"\"\"\n",
    "    Create demographic distribution plots\n",
    "    \"\"\"\n",
    "    fig, axs = plt.subplots(2, 2, figsize=(8, 6))\n",
    "    \n",
    "    sns.histplot(data=df, x='AGE', bins=30, ax=axs[0, 0])\n",
    "    axs[0, 0].set_title('Age Distribution')\n",
    "    \n",
    "    df['RACE'].value_counts().plot(kind='bar', ax=axs[0, 1])\n",
    "    axs[0, 1].set_title('Race Distribution')\n",
    "    axs[0, 1].tick_params(axis='x', rotation=45)\n",
    "    \n",
    "    df['SEX'].value_counts().plot(kind='pie', autopct='%1.1f%%', ax=axs[1, 0])\n",
    "    axs[1, 0].set_title('Sex Distribution')\n",
    "    \n",
    "    df['MARRY'].value_counts().plot(kind='bar', ax=axs[1, 1])\n",
    "    axs[1, 1].set_title('Marriage Status Distribution')\n",
    "    axs[1, 1].tick_params(axis='x', rotation=45)\n",
    "    \n",
    "    plt.tight_layout()  \n",
    "    plt.show()  \n",
    "    plt.close(fig) \n",
    "\n",
    "plot_demographic_distributions(df_panel_19_reduced)"
   ]
  },
  {
   "cell_type": "markdown",
   "id": "397ff51b",
   "metadata": {},
   "source": [
    "We are interested on attributes like `REGION`, `AGE`, `SEX`, `MARRY`, and `UTILIZATION` to better understand the data and identify any patterns or potential biases before proceeding with any modeling or analysis."
   ]
  },
  {
   "cell_type": "code",
   "execution_count": 22,
   "id": "1548732b",
   "metadata": {},
   "outputs": [
    {
     "name": "stdout",
     "output_type": "stream",
     "text": [
      "             REGION           AGE           SEX         MARRY   UTILIZATION\n",
      "count      8.000000      8.000000      8.000000      8.000000      8.000000\n",
      "mean    1980.978452   2009.195751   1980.002591   1982.347808   1978.943604\n",
      "std     5595.849865   5584.507191   5596.244078   5595.297238   5596.671956\n",
      "min        1.000000      0.000000      0.499568      1.000000      0.000000\n",
      "25%        1.750508     20.606662      1.000000      1.840941      0.000000\n",
      "50%        2.912792     34.045231      1.760581      4.330606      0.085850\n",
      "75%        4.000000     61.000000      2.000000      7.000000      0.532848\n",
      "max    15830.000000  15830.000000  15830.000000  15830.000000  15830.000000\n"
     ]
    }
   ],
   "source": [
    "df_panel_19_reduced = df_panel_19_reduced[['REGION', 'AGE', 'SEX', 'MARRY', 'UTILIZATION']].describe()\n",
    "\n",
    "# Ensure all numeric columns are converted properly for analysis\n",
    "df_panel_19_reduced = df_panel_19_reduced.apply(pd.to_numeric, errors='coerce').fillna(0) \n",
    "print(df_panel_19_reduced)"
   ]
  },
  {
   "cell_type": "code",
   "execution_count": 17,
   "id": "91b21ec2",
   "metadata": {},
   "outputs": [
    {
     "data": {
      "image/png": "[encoded data removed]",
      "text/plain": [
       "<Figure size 1000x800 with 2 Axes>"
      ]
     },
     "metadata": {},
     "output_type": "display_data"
    }
   ],
   "source": [
    "# Correlation matrix to understand relationships between selected attributes\n",
    "plt.figure(figsize=(10, 8))\n",
    "sns.heatmap(df_panel_19_reduced.corr(), annot=True, cmap='coolwarm', linewidths=0.5)\n",
    "plt.title('Correlation Matrix of Selected Attributes')\n",
    "plt.show()"
   ]
  },
  {
   "cell_type": "markdown",
   "id": "7f01f216",
   "metadata": {},
   "source": [
    "The colors in the matrix indicate the strength and direction of correlations between pairs of variables:\n",
    "\n",
    "- Red squares indicate positive correlations (closer to 1)\n",
    "- Blue squares indicate negative correlations (closer to -1)\n",
    "- The diagonal is always 1 (perfect correlation with itself)\n",
    "\n",
    "Key observations from this correlation matrix:\n",
    "\n",
    "- AGE appears to have negative correlations (blue) with all other variables, suggesting that age tends to move in the opposite direction of other attributes\n",
    "- `REGION`, `SEX`, `MARRY`, and `UTILIZATION` all appear to have positive correlations (red) with each other\n",
    "- All correlations appear to be quite strong (intense colors rather than pale ones), suggesting these relationships are fairly robust\n",
    "- The matrix is symmetrical across the diagonal, which is a characteristic of correlation matrices"
   ]
  },
  {
   "cell_type": "markdown",
   "id": "55329591-7a00-4b97-8422-29bb20c55966",
   "metadata": {
    "tags": []
   },
   "source": [
    "#### 2.3 Outlier Detection and Handling"
   ]
  },
  {
   "cell_type": "markdown",
   "id": "db72dcd1",
   "metadata": {},
   "source": [
    "**Next step we need to check is there any outlier and how do we handlie it.**\n",
    "\n",
    "**Why outliers matter?**\n",
    "- They can skew our analysis and lead to incorrect conclusions\n",
    "- Some outliers might be data entry errors that need correction\n",
    "- Others might be legitimate but rare cases we need to understand better"
   ]
  },
  {
   "cell_type": "code",
   "execution_count": 23,
   "id": "c984e86f",
   "metadata": {},
   "outputs": [
    {
     "data": {
      "image/png": "[encoded data removed]",
      "text/plain": [
       "<Figure size 800x600 with 4 Axes>"
      ]
     },
     "metadata": {},
     "output_type": "display_data"
    }
   ],
   "source": [
    "def analyze_demographic_outliers(df, fig_num=1):\n",
    "    \"\"\"\n",
    "    Analyze outliers specifically for demographic variables: age, race, sex, and marriage\n",
    "    \"\"\"\n",
    "    # Select only demographic columns and handle NaN values\n",
    "    demographic_cols = ['AGE', 'REGION', 'SEX', 'MARRY']\n",
    "    demo_data = df[demographic_cols].copy()\n",
    "    \n",
    "    # Fill NaN values with appropriate values for each column\n",
    "    demo_data['AGE'] = demo_data['AGE'].fillna(demo_data['AGE'].median())\n",
    "    demo_data['REGION'] = demo_data['REGION'].fillna('Unknown')\n",
    "    demo_data['SEX'] = demo_data['SEX'].fillna(demo_data['SEX'].mode()[0])\n",
    "    demo_data['MARRY'] = demo_data['MARRY'].fillna(demo_data['MARRY'].mode()[0])\n",
    "    \n",
    "    # Create figure for analysis\n",
    "    fig, axes = plt.subplots(2, 2, figsize=(8, 6))\n",
    "    fig.supxlabel(f'Figure {fig_num}: Demographic Outlier Analysis', fontsize=16, y=-0.05)  # Add figure title at the bottom\n",
    "    \n",
    "    # Box plots for numerical variables only (AGE and MARRY)\n",
    "    sns.boxplot(y=demo_data['AGE'], ax=axes[0, 0])\n",
    "    axes[0, 0].set_title('Age Distribution')\n",
    "    \n",
    "    sns.boxplot(y=demo_data['MARRY'], ax=axes[0, 1])\n",
    "    axes[0, 1].set_title('Marriage Status Distribution')\n",
    "    \n",
    "    # Bar plots for categorical variables (SEX and RACE)\n",
    "    demo_data['SEX'].value_counts().plot(kind='bar', ax=axes[1, 0])\n",
    "    axes[1, 0].set_title('Sex Distribution')\n",
    "    \n",
    "    demo_data['REGION'].value_counts().plot(kind='bar', ax=axes[1, 1])\n",
    "    axes[1, 1].set_title('Region Distribution')\n",
    "    axes[1, 1].tick_params(axis='x', rotation=45)\n",
    "    \n",
    "    plt.tight_layout()\n",
    "    plt.subplots_adjust(bottom=0.15)\n",
    "    plt.show()\n",
    "    plt.close(fig)\n",
    "    \n",
    "    # Calculate outliers for numerical variables only\n",
    "    outliers_summary = {}\n",
    "    for col in ['AGE', 'MARRY']:  # Only analyze numerical columns\n",
    "        Q1 = demo_data[col].quantile(0.25)\n",
    "        Q3 = demo_data[col].quantile(0.75)\n",
    "        IQR = Q3 - Q1\n",
    "        lower_bound = Q1 - 1.5 * IQR\n",
    "        upper_bound = Q3 + 1.5 * IQR\n",
    "        \n",
    "        outliers = demo_data[(demo_data[col] < lower_bound) | (demo_data[col] > upper_bound)][col]\n",
    "        outliers_summary[col] = {\n",
    "            'count': len(outliers),\n",
    "            'percentage': (len(outliers) / len(demo_data)) * 100,\n",
    "            'lower_bound': lower_bound,\n",
    "            'upper_bound': upper_bound,\n",
    "            'min': demo_data[col].min(),\n",
    "            'max': demo_data[col].max()\n",
    "        }\n",
    "    \n",
    "    return outliers_summary, demo_data\n",
    "\n",
    "# Run the analysis and assign the figure number\n",
    "outliers_summary, demo_data = analyze_demographic_outliers(df_panel_19_reduced, fig_num=1)"
   ]
  },
  {
   "cell_type": "markdown",
   "id": "a37cb445-33ef-4b4e-8079-e7d46e6fbb72",
   "metadata": {},
   "source": [
    "-----\n",
    "End of Exploratory Data Analysis"
   ]
  },
  {
   "cell_type": "markdown",
   "id": "0a18e1ab",
   "metadata": {},
   "source": [
    "**Understanding Our Community Demographics (figure 1): Key Findings**\n",
    "\n",
    "1. Age Patterns\n",
    "- Most people in our community are middle-age adults\n",
    "- The typical age is around 30-35 years old\n",
    "- We have a good mix of younger and older adults, ranging mainly from early 20s to mid-50s\n",
    "- This could also be a reason why majority of the marriage status is married, widowed, and inapplicable. \n",
    "\n",
    "**This suggests we're looking at a primarily working-age population**\n",
    "\n",
    "\n",
    "2. Gender Balance\n",
    "- Our community shows a fairly even split between men (1) and women (2)\n",
    "- There's a slightly higher number of one gender, but the difference is small\n",
    "\n",
    "**This balanced representation helps us understand both perspectives fairly.**\n",
    "\n",
    "\n",
    "3. Relationship Status\n",
    "- We see a diverse mix of relationship statuses in our community\n",
    "- This variety reflects different life stages and personal choices\n",
    "\n",
    "**The distribution suggests we're capturing a good range of family situations.**\n",
    "\n",
    "4. Cultural Diversity\n",
    "- About 5,500-6,000 individuals are identified as Non-White\n",
    "- We note that most demographic information is \"Unknown,\" so right now, its hard to come up with a conclusion about the diversity of the community in right now"
   ]
  },
  {
   "cell_type": "markdown",
   "id": "90379749-ae30-4908-b400-400254239ecd",
   "metadata": {},
   "source": [
    "#### 2.3 Correlation Analysis"
   ]
  },
  {
   "cell_type": "markdown",
   "id": "a3604122-a08a-4cf2-b1a7-66e678666909",
   "metadata": {},
   "source": [
    " ### After examining age distribution and marital status, we’re curious about how utilization correlates with age groups and marital status. Since the model aims to predict utilization rates, it’s interesting to see how these groups differ in utilization patterns.\n",
    "\n",
    "First, we want to explore deeper into the utilization rate across different marrital status:"
   ]
  },
  {
   "cell_type": "code",
   "execution_count": 24,
   "id": "18e853d1",
   "metadata": {},
   "outputs": [
    {
     "data": {
      "text/html": [
       "<div>\n",
       "<style scoped>\n",
       "    .dataframe tbody tr th:only-of-type {\n",
       "        vertical-align: middle;\n",
       "    }\n",
       "\n",
       "    .dataframe tbody tr th {\n",
       "        vertical-align: top;\n",
       "    }\n",
       "\n",
       "    .dataframe thead th {\n",
       "        text-align: right;\n",
       "    }\n",
       "</style>\n",
       "<table border=\"1\" class=\"dataframe\">\n",
       "  <thead>\n",
       "    <tr style=\"text-align: right;\">\n",
       "      <th></th>\n",
       "      <th>REGION</th>\n",
       "      <th>AGE</th>\n",
       "      <th>SEX</th>\n",
       "      <th>MARRY</th>\n",
       "      <th>UTILIZATION</th>\n",
       "      <th>MARRY_STATUS</th>\n",
       "    </tr>\n",
       "  </thead>\n",
       "  <tbody>\n",
       "    <tr>\n",
       "      <th>count</th>\n",
       "      <td>8.000000</td>\n",
       "      <td>8.000000</td>\n",
       "      <td>8.000000</td>\n",
       "      <td>8.000000</td>\n",
       "      <td>8.000000</td>\n",
       "      <td>Widowed in round</td>\n",
       "    </tr>\n",
       "    <tr>\n",
       "      <th>mean</th>\n",
       "      <td>1980.978452</td>\n",
       "      <td>2009.195751</td>\n",
       "      <td>1980.002591</td>\n",
       "      <td>1982.347808</td>\n",
       "      <td>1978.943604</td>\n",
       "      <td>NaN</td>\n",
       "    </tr>\n",
       "    <tr>\n",
       "      <th>std</th>\n",
       "      <td>5595.849865</td>\n",
       "      <td>5584.507191</td>\n",
       "      <td>5596.244078</td>\n",
       "      <td>5595.297238</td>\n",
       "      <td>5596.671956</td>\n",
       "      <td>NaN</td>\n",
       "    </tr>\n",
       "    <tr>\n",
       "      <th>min</th>\n",
       "      <td>1.000000</td>\n",
       "      <td>0.000000</td>\n",
       "      <td>0.499568</td>\n",
       "      <td>1.000000</td>\n",
       "      <td>0.000000</td>\n",
       "      <td>Married</td>\n",
       "    </tr>\n",
       "    <tr>\n",
       "      <th>25%</th>\n",
       "      <td>1.750508</td>\n",
       "      <td>20.606662</td>\n",
       "      <td>1.000000</td>\n",
       "      <td>1.840941</td>\n",
       "      <td>0.000000</td>\n",
       "      <td>NaN</td>\n",
       "    </tr>\n",
       "    <tr>\n",
       "      <th>50%</th>\n",
       "      <td>2.912792</td>\n",
       "      <td>34.045231</td>\n",
       "      <td>1.760581</td>\n",
       "      <td>4.330606</td>\n",
       "      <td>0.085850</td>\n",
       "      <td>NaN</td>\n",
       "    </tr>\n",
       "    <tr>\n",
       "      <th>75%</th>\n",
       "      <td>4.000000</td>\n",
       "      <td>61.000000</td>\n",
       "      <td>2.000000</td>\n",
       "      <td>7.000000</td>\n",
       "      <td>0.532848</td>\n",
       "      <td>Married in round</td>\n",
       "    </tr>\n",
       "    <tr>\n",
       "      <th>max</th>\n",
       "      <td>15830.000000</td>\n",
       "      <td>15830.000000</td>\n",
       "      <td>15830.000000</td>\n",
       "      <td>15830.000000</td>\n",
       "      <td>15830.000000</td>\n",
       "      <td>NaN</td>\n",
       "    </tr>\n",
       "  </tbody>\n",
       "</table>\n",
       "</div>"
      ],
      "text/plain": [
       "             REGION           AGE           SEX         MARRY   UTILIZATION  \\\n",
       "count      8.000000      8.000000      8.000000      8.000000      8.000000   \n",
       "mean    1980.978452   2009.195751   1980.002591   1982.347808   1978.943604   \n",
       "std     5595.849865   5584.507191   5596.244078   5595.297238   5596.671956   \n",
       "min        1.000000      0.000000      0.499568      1.000000      0.000000   \n",
       "25%        1.750508     20.606662      1.000000      1.840941      0.000000   \n",
       "50%        2.912792     34.045231      1.760581      4.330606      0.085850   \n",
       "75%        4.000000     61.000000      2.000000      7.000000      0.532848   \n",
       "max    15830.000000  15830.000000  15830.000000  15830.000000  15830.000000   \n",
       "\n",
       "           MARRY_STATUS  \n",
       "count  Widowed in round  \n",
       "mean                NaN  \n",
       "std                 NaN  \n",
       "min             Married  \n",
       "25%                 NaN  \n",
       "50%                 NaN  \n",
       "75%    Married in round  \n",
       "max                 NaN  "
      ]
     },
     "execution_count": 24,
     "metadata": {},
     "output_type": "execute_result"
    },
    {
     "data": {
      "image/png": "[encoded data removed]",
      "text/plain": [
       "<Figure size 1500x1000 with 1 Axes>"
      ]
     },
     "metadata": {},
     "output_type": "display_data"
    }
   ],
   "source": [
    "def simplified_marry_analysis(df):\n",
    "    \"\"\"\n",
    "    Create simplified correlation analysis focusing on key variables and categories\n",
    "    \"\"\"\n",
    "    df_analysis = df.copy()\n",
    "    \n",
    "    df_analysis['MARRY_STATUS'] = df_analysis['MARRY'].map({\n",
    "        1: 'Married',\n",
    "        2: 'Widowed',\n",
    "        3: 'Divorced',\n",
    "        4: 'Separated',\n",
    "        5: 'Never Married',\n",
    "        6: 'Under 16',\n",
    "        7: 'Married in round',\n",
    "        8: 'Widowed in round',\n",
    "        9: 'Divorced in round',\n",
    "        10: 'Separated in round',\n",
    "        -1: 'INAPPLICABLE'\n",
    "    })\n",
    "    \n",
    "    plt.figure(figsize=(15, 10))\n",
    "    \n",
    "\n",
    "    plt.subplot(2, 2, 4)\n",
    "    df_analysis['MARRY_STATUS'].value_counts().plot(kind='bar')\n",
    "    plt.xticks(rotation=45)\n",
    "    plt.title('Distribution of Marriage Status')\n",
    "    \n",
    "    plt.tight_layout()\n",
    "    return df_analysis\n",
    "\n",
    "simplified_marry_analysis(df_panel_19_reduced)"
   ]
  },
  {
   "cell_type": "code",
   "execution_count": 25,
   "id": "d9ca84b3",
   "metadata": {},
   "outputs": [
    {
     "name": "stdout",
     "output_type": "stream",
     "text": [
      "MARRY Categories Distribution:\n",
      "-----------------------------\n",
      "MARRY_1.0: 1 records (12.5%)\n",
      "MARRY_1.8409409474153788: 1 records (12.5%)\n",
      "MARRY_4.3306064434617815: 1 records (12.5%)\n",
      "MARRY_7.0: 1 records (12.5%)\n",
      "MARRY_8.0: 1 records (12.5%)\n",
      "MARRY_1982.3478084354347: 1 records (12.5%)\n",
      "MARRY_5595.297237544741: 1 records (12.5%)\n",
      "MARRY_15830.0: 1 records (12.5%)\n",
      "\n",
      "Average Utilization by MARRY Category:\n",
      "------------------------------------\n",
      "                      mean  count\n",
      "MARRY                            \n",
      "1.000000          0.000000      1\n",
      "1.840941          0.000000      1\n",
      "4.330606          0.085850      1\n",
      "7.000000          0.532848      1\n",
      "8.000000          8.000000      1\n",
      "1982.347808    1978.943604      1\n",
      "5595.297238    5596.671956      1\n",
      "15830.000000  15830.000000      1\n"
     ]
    }
   ],
   "source": [
    "def analyze_marry_categories(df):\n",
    "    \"\"\"\n",
    "    Analyze MARRY categories distribution and relationships\n",
    "    \"\"\"\n",
    "    marry_dist = df['MARRY'].value_counts().sort_index()\n",
    "    \n",
    "    print(\"MARRY Categories Distribution:\")\n",
    "    print(\"-----------------------------\")\n",
    "    for category, count in marry_dist.items():\n",
    "        percentage = (count/len(df))*100\n",
    "        print(f\"MARRY_{category}: {count} records ({percentage:.1f}%)\")\n",
    "        \n",
    "    avg_util = df.groupby('MARRY')['UTILIZATION'].agg(['mean', 'count'])\n",
    "    print(\"\\nAverage Utilization by MARRY Category:\")\n",
    "    print(\"------------------------------------\")\n",
    "    print(avg_util)\n",
    "\n",
    "analyze_marry_categories(df_panel_19_reduced)"
   ]
  },
  {
   "cell_type": "code",
   "execution_count": 27,
   "id": "780e98f4",
   "metadata": {},
   "outputs": [
    {
     "data": {
      "image/png": "[encoded data removed]",
      "text/plain": [
       "<Figure size 1000x600 with 1 Axes>"
      ]
     },
     "metadata": {},
     "output_type": "display_data"
    }
   ],
   "source": [
    "import matplotlib.pyplot as plt\n",
    "\n",
    "def plot_marry_utilization(df):\n",
    "    \"\"\"\n",
    "    Plot average utilization by MARRY category.\n",
    "    \"\"\"\n",
    "    avg_util = df.groupby('MARRY')['UTILIZATION'].mean()\n",
    "    \n",
    "    plt.figure(figsize=(10, 6))\n",
    "    avg_util.plot(kind='bar', color='skyblue')\n",
    "    plt.title('Average Utilization by MARRY Category')\n",
    "    plt.xlabel('MARRY Category')\n",
    "    plt.ylabel('Average Utilization')\n",
    "    plt.xticks(rotation=45)\n",
    "    plt.grid(axis='y', linestyle='--', alpha=0.7)\n",
    "    plt.tight_layout()\n",
    "    plt.show()\n",
    "\n",
    "plot_marry_utilization(df_panel_19_reduced)"
   ]
  },
  {
   "cell_type": "markdown",
   "id": "4de9c613",
   "metadata": {},
   "source": [
    "## Now that we have all the graphs and results, lets first define what these complicated marry categories all mean for better clarity. \n",
    "\n",
    "MARRY_1 (Married): 5197 records (32.8%) - Ultilizaton rate: 0.227246 \n",
    "\n",
    "MARRY_2 (Widowed): 652 records (4.1%) - Ultilizaton rate: 0.483129\n",
    "\n",
    "MARRY_3 (Divorced): 1252 records (7.9%) - Ultilizaton rate: 0.293930\n",
    "\n",
    "MARRY_4 (Separated): 312 records (2.0%) - Ultilizaton rate: 0.198718\n",
    "\n",
    "MARRY_5 (Never Married): 4301 records (27.2%) - Ultilizaton rate: 0.127180\n",
    "\n",
    "MARRY_6 (Under 16): 3976 records (25.1%) - Ultilizaton rate: 0.056841\n",
    "\n",
    "MARRY_7 (Married in round): 92 records (0.6%) - Ultilizaton rate: 0.141304\n",
    "\n",
    "MARRY_8: (Widowed in round) records (0.0%) - Ultilizaton rate: 0.000000\n",
    "\n",
    "MARRY_9: (Divorced in round) records (0.1%) - Ultilizaton rate: 0.238095\n",
    "\n",
    "MARRY_10: (Separated in round) 21 records (0.1%) - Ultilizaton rate: 0.047619\n",
    "\n",
    "note: \"In round\" likely refers to the marital status change occurring during the survey period (or a specific data collection round) in the panel study. In this analysis, we can view this as outliers mainly because it has such view count that it might skew the data if we were to include it in our analysis"
   ]
  },
  {
   "cell_type": "markdown",
   "id": "f299d6e8",
   "metadata": {},
   "source": [
    "### Looking at the graph and results, it shows distinct distributions across MARRY categories:\n",
    "\n",
    "* Never Married (MARRY_1) holds the highest count with 5,197 records (32.8%), indicating a large proportion of individuals who have never married.\n",
    "\n",
    "* Separated (MARRY_5) and Widowed (MARRY_6) follow closely, with 4,301 records (27.2%) and 3,976 records (25.1%), respectively.\n",
    "\n",
    "* Smaller groups include Under 16 (MARRY_3), Divorced (MARRY_2), and Married (MARRY_4), with lower counts and lower representation in the dataset.\n",
    "\n",
    "* Rare categories like Married in round (MARRY_7), Divorced in round (MARRY_8), Widowed in round (MARRY_9), and Separated in round (MARRY_10) collectively make up less than 1% of the data.\n",
    "\n",
    "### Utilization Rates by Marital Status:\n",
    "\n",
    "* Divorced (MARRY_2) shows the highest average utilization (0.483). This could suggest that individuals who are divorced might have unique healthcare needs, potentially due to lifestyle changes or stresses associated with marital separation.\n",
    "\n",
    "* widowed (MARRY_6) shows the lowest average utilization (0.057). This may reflect a possible lack of access or reduced healthcare engagement, perhaps due to social or financial challenges that often accompany widowhood.\n",
    "\n",
    "* Never Married (MARRY_1) and Under 16 (MARRY_3) have moderate utilization rates (0.227 and 0.294, respectively). For Never Married, this might indicate consistent healthcare needs without the additional factors that impact divorced or widowed groups.\n",
    "\n",
    "## So...what can this all possibly mean? Why does it matter?\n",
    "\n",
    "This distribution and utilization pattern is insightful for a few reasons:\n",
    "\n",
    "* Healthcare Needs by Life Stage: Different marital statuses often align with specific life stages or socioeconomic situations, which can influence healthcare needs. For example, Widowed individuals may face unique physical and emotional health challenges compared to those who are Never Married or Under 16.\n",
    "\n",
    "* Targeted Healthcare Interventions: By identifying these patterns, healthcare providers can consider targeted interventions for high-need groups, such as Divorced or Widowed individuals, to ensure they receive the necessary support. This could also help address disparities in healthcare engagement.\n",
    "\n",
    "* Fairness and Bias Mitigation: The varying utilization rates underscore the importance of addressing potential biases in healthcare models. For example, if models prioritize higher utilization groups, there may be a need to consider fairness adjustments to avoid disadvantaging low-utilization groups, like Widowed individuals.\n",
    "\n",
    "* Impact on Model Training and Prediction: Understanding utilization variations by marital status can guide model design to ensure predictions reflect the true healthcare needs of each group, improving model accuracy and fairness."
   ]
  },
  {
   "cell_type": "markdown",
   "id": "3a872e3a",
   "metadata": {},
   "source": [
    "## Now, let’s examine utilization patterns across different age groups."
   ]
  },
  {
   "cell_type": "code",
   "execution_count": 26,
   "id": "ff370999",
   "metadata": {},
   "outputs": [
    {
     "ename": "KeyError",
     "evalue": "'AGE_GROUP'",
     "output_type": "error",
     "traceback": [
      "\u001b[0;31m---------------------------------------------------------------------------\u001b[0m",
      "\u001b[0;31mKeyError\u001b[0m                                  Traceback (most recent call last)",
      "File \u001b[0;32m/opt/miniconda3/envs/aif360/lib/python3.9/site-packages/pandas/core/indexes/base.py:3805\u001b[0m, in \u001b[0;36mIndex.get_loc\u001b[0;34m(self, key)\u001b[0m\n\u001b[1;32m   3804\u001b[0m \u001b[38;5;28;01mtry\u001b[39;00m:\n\u001b[0;32m-> 3805\u001b[0m     \u001b[38;5;28;01mreturn\u001b[39;00m \u001b[38;5;28;43mself\u001b[39;49m\u001b[38;5;241;43m.\u001b[39;49m\u001b[43m_engine\u001b[49m\u001b[38;5;241;43m.\u001b[39;49m\u001b[43mget_loc\u001b[49m\u001b[43m(\u001b[49m\u001b[43mcasted_key\u001b[49m\u001b[43m)\u001b[49m\n\u001b[1;32m   3806\u001b[0m \u001b[38;5;28;01mexcept\u001b[39;00m \u001b[38;5;167;01mKeyError\u001b[39;00m \u001b[38;5;28;01mas\u001b[39;00m err:\n",
      "File \u001b[0;32mindex.pyx:167\u001b[0m, in \u001b[0;36mpandas._libs.index.IndexEngine.get_loc\u001b[0;34m()\u001b[0m\n",
      "File \u001b[0;32mindex.pyx:196\u001b[0m, in \u001b[0;36mpandas._libs.index.IndexEngine.get_loc\u001b[0;34m()\u001b[0m\n",
      "File \u001b[0;32mpandas/_libs/hashtable_class_helper.pxi:7081\u001b[0m, in \u001b[0;36mpandas._libs.hashtable.PyObjectHashTable.get_item\u001b[0;34m()\u001b[0m\n",
      "File \u001b[0;32mpandas/_libs/hashtable_class_helper.pxi:7089\u001b[0m, in \u001b[0;36mpandas._libs.hashtable.PyObjectHashTable.get_item\u001b[0;34m()\u001b[0m\n",
      "\u001b[0;31mKeyError\u001b[0m: 'AGE_GROUP'",
      "\nThe above exception was the direct cause of the following exception:\n",
      "\u001b[0;31mKeyError\u001b[0m                                  Traceback (most recent call last)",
      "Cell \u001b[0;32mIn[26], line 18\u001b[0m\n\u001b[1;32m     15\u001b[0m     \u001b[38;5;28mprint\u001b[39m(\u001b[38;5;124m\"\u001b[39m\u001b[38;5;124m------------------------------------\u001b[39m\u001b[38;5;124m\"\u001b[39m)\n\u001b[1;32m     16\u001b[0m     \u001b[38;5;28mprint\u001b[39m(avg_util)\n\u001b[0;32m---> 18\u001b[0m \u001b[43manalyze_age_categories\u001b[49m\u001b[43m(\u001b[49m\u001b[43mdf_panel_19_reduced\u001b[49m\u001b[43m)\u001b[49m\n",
      "Cell \u001b[0;32mIn[26], line 5\u001b[0m, in \u001b[0;36manalyze_age_categories\u001b[0;34m(df)\u001b[0m\n\u001b[1;32m      1\u001b[0m \u001b[38;5;28;01mdef\u001b[39;00m \u001b[38;5;21manalyze_age_categories\u001b[39m(df):\n\u001b[1;32m      2\u001b[0m \u001b[38;5;250m    \u001b[39m\u001b[38;5;124;03m\"\"\"\u001b[39;00m\n\u001b[1;32m      3\u001b[0m \u001b[38;5;124;03m    Analyze age categories distribution and relationships\u001b[39;00m\n\u001b[1;32m      4\u001b[0m \u001b[38;5;124;03m    \"\"\"\u001b[39;00m\n\u001b[0;32m----> 5\u001b[0m     age_dist \u001b[38;5;241m=\u001b[39m \u001b[43mdf\u001b[49m\u001b[43m[\u001b[49m\u001b[38;5;124;43m'\u001b[39;49m\u001b[38;5;124;43mAGE_GROUP\u001b[39;49m\u001b[38;5;124;43m'\u001b[39;49m\u001b[43m]\u001b[49m\u001b[38;5;241m.\u001b[39mvalue_counts()\u001b[38;5;241m.\u001b[39msort_index()\n\u001b[1;32m      7\u001b[0m     \u001b[38;5;28mprint\u001b[39m(\u001b[38;5;124m\"\u001b[39m\u001b[38;5;124mAge Categories Distribution:\u001b[39m\u001b[38;5;124m\"\u001b[39m)\n\u001b[1;32m      8\u001b[0m     \u001b[38;5;28mprint\u001b[39m(\u001b[38;5;124m\"\u001b[39m\u001b[38;5;124m-----------------------------\u001b[39m\u001b[38;5;124m\"\u001b[39m)\n",
      "File \u001b[0;32m/opt/miniconda3/envs/aif360/lib/python3.9/site-packages/pandas/core/frame.py:4102\u001b[0m, in \u001b[0;36mDataFrame.__getitem__\u001b[0;34m(self, key)\u001b[0m\n\u001b[1;32m   4100\u001b[0m \u001b[38;5;28;01mif\u001b[39;00m \u001b[38;5;28mself\u001b[39m\u001b[38;5;241m.\u001b[39mcolumns\u001b[38;5;241m.\u001b[39mnlevels \u001b[38;5;241m>\u001b[39m \u001b[38;5;241m1\u001b[39m:\n\u001b[1;32m   4101\u001b[0m     \u001b[38;5;28;01mreturn\u001b[39;00m \u001b[38;5;28mself\u001b[39m\u001b[38;5;241m.\u001b[39m_getitem_multilevel(key)\n\u001b[0;32m-> 4102\u001b[0m indexer \u001b[38;5;241m=\u001b[39m \u001b[38;5;28;43mself\u001b[39;49m\u001b[38;5;241;43m.\u001b[39;49m\u001b[43mcolumns\u001b[49m\u001b[38;5;241;43m.\u001b[39;49m\u001b[43mget_loc\u001b[49m\u001b[43m(\u001b[49m\u001b[43mkey\u001b[49m\u001b[43m)\u001b[49m\n\u001b[1;32m   4103\u001b[0m \u001b[38;5;28;01mif\u001b[39;00m is_integer(indexer):\n\u001b[1;32m   4104\u001b[0m     indexer \u001b[38;5;241m=\u001b[39m [indexer]\n",
      "File \u001b[0;32m/opt/miniconda3/envs/aif360/lib/python3.9/site-packages/pandas/core/indexes/base.py:3812\u001b[0m, in \u001b[0;36mIndex.get_loc\u001b[0;34m(self, key)\u001b[0m\n\u001b[1;32m   3807\u001b[0m     \u001b[38;5;28;01mif\u001b[39;00m \u001b[38;5;28misinstance\u001b[39m(casted_key, \u001b[38;5;28mslice\u001b[39m) \u001b[38;5;129;01mor\u001b[39;00m (\n\u001b[1;32m   3808\u001b[0m         \u001b[38;5;28misinstance\u001b[39m(casted_key, abc\u001b[38;5;241m.\u001b[39mIterable)\n\u001b[1;32m   3809\u001b[0m         \u001b[38;5;129;01mand\u001b[39;00m \u001b[38;5;28many\u001b[39m(\u001b[38;5;28misinstance\u001b[39m(x, \u001b[38;5;28mslice\u001b[39m) \u001b[38;5;28;01mfor\u001b[39;00m x \u001b[38;5;129;01min\u001b[39;00m casted_key)\n\u001b[1;32m   3810\u001b[0m     ):\n\u001b[1;32m   3811\u001b[0m         \u001b[38;5;28;01mraise\u001b[39;00m InvalidIndexError(key)\n\u001b[0;32m-> 3812\u001b[0m     \u001b[38;5;28;01mraise\u001b[39;00m \u001b[38;5;167;01mKeyError\u001b[39;00m(key) \u001b[38;5;28;01mfrom\u001b[39;00m \u001b[38;5;21;01merr\u001b[39;00m\n\u001b[1;32m   3813\u001b[0m \u001b[38;5;28;01mexcept\u001b[39;00m \u001b[38;5;167;01mTypeError\u001b[39;00m:\n\u001b[1;32m   3814\u001b[0m     \u001b[38;5;66;03m# If we have a listlike key, _check_indexing_error will raise\u001b[39;00m\n\u001b[1;32m   3815\u001b[0m     \u001b[38;5;66;03m#  InvalidIndexError. Otherwise we fall through and re-raise\u001b[39;00m\n\u001b[1;32m   3816\u001b[0m     \u001b[38;5;66;03m#  the TypeError.\u001b[39;00m\n\u001b[1;32m   3817\u001b[0m     \u001b[38;5;28mself\u001b[39m\u001b[38;5;241m.\u001b[39m_check_indexing_error(key)\n",
      "\u001b[0;31mKeyError\u001b[0m: 'AGE_GROUP'"
     ]
    }
   ],
   "source": [
    "def analyze_age_categories(df):\n",
    "    \"\"\"\n",
    "    Analyze age categories distribution and relationships\n",
    "    \"\"\"\n",
    "    age_dist = df['AGE_GROUP'].value_counts().sort_index()\n",
    "    \n",
    "    print(\"Age Categories Distribution:\")\n",
    "    print(\"-----------------------------\")\n",
    "    for category, count in age_dist.items():\n",
    "        percentage = (count / len(df)) * 100\n",
    "        print(f\"AGE_GROUP_{category}: {count} records ({percentage:.1f}%)\")\n",
    "        \n",
    "    avg_util = df.groupby('AGE_GROUP')['UTILIZATION'].agg(['mean', 'count'])\n",
    "    print(\"\\nAverage Utilization by Age Group:\")\n",
    "    print(\"------------------------------------\")\n",
    "    print(avg_util)\n",
    "\n",
    "analyze_age_categories(df_panel_19_reduced)"
   ]
  },
  {
   "cell_type": "code",
   "execution_count": null,
   "id": "cf486370",
   "metadata": {},
   "outputs": [],
   "source": [
    "def plot_age_group_utilization(df):\n",
    "    \"\"\"\n",
    "    Plot average utilization by age group.\n",
    "    \"\"\"\n",
    "    age_group_utilization = df.groupby('AGE_GROUP')['UTILIZATION'].mean()\n",
    "    \n",
    "    plt.figure(figsize=(10, 6))\n",
    "    age_group_utilization.plot(kind='bar', color='skyblue')\n",
    "    plt.title('Average Utilization by Age Group')\n",
    "    plt.xlabel('Age Group')\n",
    "    plt.ylabel('Average Utilization')\n",
    "    plt.xticks(rotation=45)\n",
    "    plt.grid(axis='y', linestyle='--', alpha=0.7)\n",
    "    plt.tight_layout()\n",
    "    plt.show()\n",
    "    \n",
    "plot_age_group_utilization(df_panel_19_reduced)"
   ]
  },
  {
   "cell_type": "markdown",
   "id": "bd8e9971",
   "metadata": {},
   "source": [
    "## WHAT DOES THIS ALL MEAN?\n",
    "Well, the age distribution shows that 18-25 is the largest age group, with 38.0% of records. The next largest groups are 26-35 and 36-45, with 14.2% and 12.6%, respectively. Smaller groups like 56-65 and 65+ make up 10.6% and 10.9% of the dataset.\n",
    "\n",
    "Unsuprisingly, utilization rates increase consistently with age. The 18-25 group has the lowest utilization rate at 0.064, while 65+ has the highest at 0.507. Middle-aged groups like 46-55 and 56-65 show a noticeable increase, with utilization rates of 0.203 and 0.299.\n",
    "\n",
    "So even though smaller groups like 56-65 and 65+ make up only 10.6% and 10.9% of the dataset, they have some of the highest average ulitization rate out of all the age groups.\n",
    "\n",
    "## Soooo, why should we care??\n",
    "\n",
    "* Healthcare Needs by Age: As people age, they tend to need more healthcare. Older groups like 56-65 and 65+ often face more chronic conditions or health issues, leading to higher utilization rates. Younger groups like 18-25 generally have fewer health concerns, resulting in lower healthcare use.\n",
    "\n",
    "* Access and Awareness: Older individuals might be more aware of their health needs or have better access to healthcare, especially with age-specific programs like Medicare. Younger people might not prioritize healthcare, leading to lower utilization in the 18-25 range.\n",
    "\n",
    "* Pattern Recognition: This clear age-utilization pattern provides insight into how healthcare needs vary by age. Recognizing this trend can help in designing fair, age-sensitive models.\n",
    "Resource Allocation: Higher utilization in older age groups indicates where healthcare resources might be most needed. Understanding these patterns could support targeted healthcare initiatives.\n",
    "\n",
    "* Bias Mitigation: If utilization rates impact healthcare recommendations, age-based disparities need careful handling to ensure fair access for all age groups.\n",
    "This analysis offers a foundation for understanding age-specific healthcare engagement, highlighting areas for potential intervention and fairness considerations in model design."
   ]
  },
  {
   "cell_type": "markdown",
   "id": "3488097b",
   "metadata": {},
   "source": [
    "# Conclusions and Implications\n",
    "\n",
    "### This EDA has provided valuable insights into how marital status and age impact healthcare utilization patterns. \n",
    "\n",
    "## Key takeaways include:\n",
    "\n",
    "Healthcare Needs by Demographic: Both age and marital status significantly affect healthcare engagement. Widowed and older individuals have higher utilization, suggesting targeted support may be beneficial.\n",
    "Fairness and Bias Mitigation: Differences in utilization across demographic groups highlight the importance of fairness in healthcare models. Ensuring that models do not disproportionately prioritize or disadvantage any group is essential for equitable healthcare access.\n",
    "Future Model Design: Understanding utilization patterns by age and marital status can inform model design, improving accuracy and sensitivity to demographic-specific healthcare needs.\n",
    "In summary, this analysis establishes a foundation for developing fair, effective models that account for varying healthcare needs across age and marital statuses, supporting targeted interventions and equitable healthcare delivery."
   ]
  },
  {
   "cell_type": "markdown",
   "id": "4ea71b56",
   "metadata": {},
   "source": [
    "# TEST TEST MIGHT USE IT FOR LATER? IDK WE WILL SEE COULD BE INTERESTING"
   ]
  },
  {
   "cell_type": "code",
   "execution_count": 28,
   "id": "1a0da6e6",
   "metadata": {},
   "outputs": [
    {
     "name": "stderr",
     "output_type": "stream",
     "text": [
      "/opt/miniconda3/envs/aif360/lib/python3.9/site-packages/scipy/stats/_stats_py.py:3869: DegenerateDataWarning: all input arrays have length 1.  f_oneway requires that at least one input has length greater than 1.\n",
      "  warnings.warn(stats.DegenerateDataWarning(msg))\n"
     ]
    },
    {
     "data": {
      "text/plain": [
       "{'chi2_statistic': 8.0,\n",
       " 'chi2_p_value': 0.3325939025993081,\n",
       " 'f_statistic': nan,\n",
       " 'anova_p_value': nan}"
      ]
     },
     "execution_count": 28,
     "metadata": {},
     "output_type": "execute_result"
    }
   ],
   "source": [
    "from scipy import stats\n",
    "\n",
    "def statistical_analysis(df):\n",
    "    \"\"\"\n",
    "    Perform statistical tests on marriage status relationships\n",
    "    \"\"\"\n",
    "    # Chi-square test of independence\n",
    "    contingency_table = pd.crosstab(df['MARRY'], df['UTILIZATION'] > df['UTILIZATION'].median())\n",
    "    chi2, p_value = stats.chi2_contingency(contingency_table)[:2]\n",
    "    \n",
    "    # ANOVA test for utilization differences between marriage groups\n",
    "    marry_groups = [group['UTILIZATION'].values for name, group in df.groupby('MARRY')]\n",
    "    f_stat, anova_p = stats.f_oneway(*marry_groups)\n",
    "    \n",
    "    results = {\n",
    "        'chi2_statistic': chi2,\n",
    "        'chi2_p_value': p_value,\n",
    "        'f_statistic': f_stat,\n",
    "        'anova_p_value': anova_p\n",
    "    }\n",
    "    \n",
    "    return results\n",
    "\n",
    "statistical_analysis(df_panel_19_reduced)"
   ]
  },
  {
   "cell_type": "markdown",
   "id": "6c48f93f",
   "metadata": {},
   "source": [
    "-----\n",
    "End of Exploratory Data Analysis"
   ]
  },
  {
   "cell_type": "markdown",
   "id": "feb5e270-5781-4e88-a180-4de7660a1c92",
   "metadata": {},
   "source": [
    "_Items below will be updated as course progress_"
   ]
  },
  {
   "cell_type": "markdown",
   "id": "da83c738",
   "metadata": {},
   "source": [
    "### [3.](#Table-of-Contents) Model Development without Debiasing "
   ]
  },
  {
   "cell_type": "markdown",
   "id": "065cc8e5",
   "metadata": {},
   "source": [
    "First, load all necessary packages"
   ]
  },
  {
   "cell_type": "code",
   "execution_count": null,
   "id": "fc5070d0",
   "metadata": {},
   "outputs": [],
   "source": [
    "import sys\n",
    "sys.path.insert(0, '../')\n",
    "\n",
    "%matplotlib inline\n",
    "import matplotlib.pyplot as plt\n",
    "import numpy as np\n",
    "from IPython.display import Markdown, display\n",
    "\n",
    "# Datasets\n",
    "from aif360.datasets import MEPSDataset19\n",
    "from aif360.datasets import MEPSDataset20\n",
    "from aif360.datasets import MEPSDataset21\n",
    "\n",
    "# Fairness metrics\n",
    "from aif360.metrics import BinaryLabelDatasetMetric\n",
    "from aif360.metrics import ClassificationMetric\n",
    "\n",
    "# Explainers\n",
    "from aif360.explainers import MetricTextExplainer\n",
    "\n",
    "# Scalers\n",
    "from sklearn.preprocessing import StandardScaler\n",
    "\n",
    "# Classifiers\n",
    "from sklearn.ensemble import RandomForestClassifier\n",
    "from sklearn.linear_model import LogisticRegression\n",
    "from sklearn.pipeline import make_pipeline\n",
    "\n",
    "# Bias mitigation techniques\n",
    "from aif360.algorithms.preprocessing import Reweighing\n",
    "from aif360.algorithms.inprocessing import PrejudiceRemover\n",
    "\n",
    "# LIME\n",
    "from aif360.datasets.lime_encoder import LimeEncoder\n",
    "import lime\n",
    "from lime.lime_tabular import LimeTabularExplainer\n",
    "\n",
    "np.random.seed(1)"
   ]
  },
  {
   "cell_type": "markdown",
   "id": "049adaf9",
   "metadata": {},
   "source": [
    "### 3.1. Load data & create splits for learning/validating/testing model"
   ]
  },
  {
   "cell_type": "markdown",
   "id": "c28fef9e",
   "metadata": {},
   "source": [
    "Get the dataset and split into train (50%), validate (30%), and test (20%)"
   ]
  },
  {
   "cell_type": "code",
   "execution_count": null,
   "id": "bde781a1",
   "metadata": {},
   "outputs": [],
   "source": [
    "(dataset_orig_panel19_train,\n",
    " dataset_orig_panel19_val,\n",
    " dataset_orig_panel19_test) = MEPSDataset19().split([0.5, 0.8], shuffle=True)\n",
    "\n",
    "sens_ind = 0\n",
    "sens_attr = dataset_orig_panel19_train.protected_attribute_names[sens_ind]\n",
    "\n",
    "unprivileged_groups = [{sens_attr: v} for v in\n",
    "                       dataset_orig_panel19_train.unprivileged_protected_attributes[sens_ind]]\n",
    "privileged_groups = [{sens_attr: v} for v in\n",
    "                     dataset_orig_panel19_train.privileged_protected_attributes[sens_ind]]"
   ]
  },
  {
   "cell_type": "markdown",
   "id": "2f81f713",
   "metadata": {},
   "source": [
    "This function will be used throughout the notebook to print out some labels, names, etc."
   ]
  },
  {
   "cell_type": "code",
   "execution_count": null,
   "id": "b9c4e0c4",
   "metadata": {},
   "outputs": [],
   "source": [
    "def describe(train=None, val=None, test=None):\n",
    "    if train is not None:\n",
    "        display(Markdown(\"#### Training Dataset shape\"))\n",
    "        print(train.features.shape)\n",
    "    if val is not None:\n",
    "        display(Markdown(\"#### Validation Dataset shape\"))\n",
    "        print(val.features.shape)\n",
    "    display(Markdown(\"#### Test Dataset shape\"))\n",
    "    print(test.features.shape)\n",
    "    display(Markdown(\"#### Favorable and unfavorable labels\"))\n",
    "    print(test.favorable_label, test.unfavorable_label)\n",
    "    display(Markdown(\"#### Protected attribute names\"))\n",
    "    print(test.protected_attribute_names)\n",
    "    display(Markdown(\"#### Privileged and unprivileged protected attribute values\"))\n",
    "    print(test.privileged_protected_attributes, \n",
    "          test.unprivileged_protected_attributes)\n",
    "    display(Markdown(\"#### Dataset feature names\"))\n",
    "    print(test.feature_names)"
   ]
  },
  {
   "cell_type": "markdown",
   "id": "215f5ddc",
   "metadata": {},
   "source": [
    "Show 2015 dataset details"
   ]
  },
  {
   "cell_type": "code",
   "execution_count": null,
   "id": "02466275",
   "metadata": {},
   "outputs": [],
   "source": [
    "describe(dataset_orig_panel19_train, dataset_orig_panel19_val, dataset_orig_panel19_test)"
   ]
  },
  {
   "cell_type": "markdown",
   "id": "c78e940d",
   "metadata": {},
   "source": [
    "Metrics for original data"
   ]
  },
  {
   "cell_type": "code",
   "execution_count": null,
   "id": "f9ab8ed9",
   "metadata": {},
   "outputs": [],
   "source": [
    "metric_orig_panel19_train = BinaryLabelDatasetMetric(\n",
    "        dataset_orig_panel19_train,\n",
    "        unprivileged_groups=unprivileged_groups,\n",
    "        privileged_groups=privileged_groups)\n",
    "explainer_orig_panel19_train = MetricTextExplainer(metric_orig_panel19_train)\n",
    "\n",
    "print(explainer_orig_panel19_train.disparate_impact())"
   ]
  },
  {
   "cell_type": "markdown",
   "id": "2e0e9ff7",
   "metadata": {},
   "source": [
    "## 3.2. Learning a Logistic Regression (LR) classifier on original data"
   ]
  },
  {
   "cell_type": "markdown",
   "id": "631f4a6d",
   "metadata": {},
   "source": [
    "### 3.2.1. Training LR model on original data"
   ]
  },
  {
   "cell_type": "code",
   "execution_count": null,
   "id": "463bd67d",
   "metadata": {},
   "outputs": [],
   "source": [
    "dataset = dataset_orig_panel19_train\n",
    "model = make_pipeline(StandardScaler(),\n",
    "                      LogisticRegression(solver='liblinear', random_state=1))\n",
    "fit_params = {'logisticregression__sample_weight': dataset.instance_weights}\n",
    "\n",
    "lr_orig_panel19 = model.fit(dataset.features, dataset.labels.ravel(), **fit_params)"
   ]
  },
  {
   "cell_type": "markdown",
   "id": "1d797ff6",
   "metadata": {},
   "source": [
    "### 3.2.2. Validating LR model on original data"
   ]
  },
  {
   "cell_type": "markdown",
   "id": "21a5c0c7",
   "metadata": {},
   "source": [
    "This function will be used throughout the tutorial to find best threshold using a validation set"
   ]
  },
  {
   "cell_type": "code",
   "execution_count": null,
   "id": "285e7e4b",
   "metadata": {},
   "outputs": [],
   "source": [
    "from collections import defaultdict\n",
    "\n",
    "def test(dataset, model, thresh_arr):\n",
    "    try:\n",
    "        # sklearn classifier\n",
    "        y_val_pred_prob = model.predict_proba(dataset.features)\n",
    "        pos_ind = np.where(model.classes_ == dataset.favorable_label)[0][0]\n",
    "    except AttributeError:\n",
    "        # aif360 inprocessing algorithm\n",
    "        y_val_pred_prob = model.predict(dataset).scores\n",
    "        pos_ind = 0\n",
    "    \n",
    "    metric_arrs = defaultdict(list)\n",
    "    for thresh in thresh_arr:\n",
    "        y_val_pred = (y_val_pred_prob[:, pos_ind] > thresh).astype(np.float64)\n",
    "\n",
    "        dataset_pred = dataset.copy()\n",
    "        dataset_pred.labels = y_val_pred\n",
    "        metric = ClassificationMetric(\n",
    "                dataset, dataset_pred,\n",
    "                unprivileged_groups=unprivileged_groups,\n",
    "                privileged_groups=privileged_groups)\n",
    "\n",
    "        metric_arrs['bal_acc'].append((metric.true_positive_rate()\n",
    "                                     + metric.true_negative_rate()) / 2)\n",
    "        metric_arrs['avg_odds_diff'].append(metric.average_odds_difference())\n",
    "        metric_arrs['disp_imp'].append(metric.disparate_impact())\n",
    "        metric_arrs['stat_par_diff'].append(metric.statistical_parity_difference())\n",
    "        metric_arrs['eq_opp_diff'].append(metric.equal_opportunity_difference())\n",
    "        metric_arrs['theil_ind'].append(metric.theil_index())\n",
    "    \n",
    "    return metric_arrs"
   ]
  },
  {
   "cell_type": "code",
   "execution_count": null,
   "id": "63dd3e1a",
   "metadata": {},
   "outputs": [],
   "source": [
    "thresh_arr = np.linspace(0.01, 0.5, 50)\n",
    "val_metrics = test(dataset=dataset_orig_panel19_val,\n",
    "                   model=lr_orig_panel19,\n",
    "                   thresh_arr=thresh_arr)\n",
    "lr_orig_best_ind = np.argmax(val_metrics['bal_acc'])"
   ]
  },
  {
   "cell_type": "markdown",
   "id": "0146804a",
   "metadata": {},
   "source": [
    "\n",
    "Plot metrics with twin x-axes"
   ]
  },
  {
   "cell_type": "code",
   "execution_count": null,
   "id": "9ae13679",
   "metadata": {},
   "outputs": [],
   "source": [
    "def plot(x, x_name, y_left, y_left_name, y_right, y_right_name):\n",
    "    fig, ax1 = plt.subplots(figsize=(10,7))\n",
    "    ax1.plot(x, y_left)\n",
    "    ax1.set_xlabel(x_name, fontsize=16, fontweight='bold')\n",
    "    ax1.set_ylabel(y_left_name, color='b', fontsize=16, fontweight='bold')\n",
    "    ax1.xaxis.set_tick_params(labelsize=14)\n",
    "    ax1.yaxis.set_tick_params(labelsize=14)\n",
    "    ax1.set_ylim(0.5, 0.8)\n",
    "\n",
    "    ax2 = ax1.twinx()\n",
    "    ax2.plot(x, y_right, color='r')\n",
    "    ax2.set_ylabel(y_right_name, color='r', fontsize=16, fontweight='bold')\n",
    "    if 'DI' in y_right_name:\n",
    "        ax2.set_ylim(0., 0.7)\n",
    "    else:\n",
    "        ax2.set_ylim(-0.25, 0.1)\n",
    "\n",
    "    best_ind = np.argmax(y_left)\n",
    "    ax2.axvline(np.array(x)[best_ind], color='k', linestyle=':')\n",
    "    ax2.yaxis.set_tick_params(labelsize=14)\n",
    "    ax2.grid(True)"
   ]
  },
  {
   "cell_type": "markdown",
   "id": "bc47311d",
   "metadata": {},
   "source": [
    "Here we plot 1 - min(disparate impact, 1/disparate impact)  since it's possible to overcorrect and end up with a value greater than 1, implying unfairness for the original privileged group. For shorthand, we simply call this 1-min(DI, 1/DI) from now on. We want the plotted metric to be less than 0.2."
   ]
  },
  {
   "cell_type": "code",
   "execution_count": null,
   "id": "e6d1ffef",
   "metadata": {},
   "outputs": [],
   "source": [
    "disp_imp = np.array(val_metrics['disp_imp'])\n",
    "disp_imp_err = 1 - np.minimum(disp_imp, 1/disp_imp)\n",
    "plot(thresh_arr, 'Classification Thresholds',\n",
    "     val_metrics['bal_acc'], 'Balanced Accuracy',\n",
    "     disp_imp_err, '1 - min(DI, 1/DI)')"
   ]
  },
  {
   "cell_type": "code",
   "execution_count": null,
   "id": "165c1dd8",
   "metadata": {},
   "outputs": [],
   "source": [
    "plot(thresh_arr, 'Classification Thresholds',\n",
    "     val_metrics['bal_acc'], 'Balanced Accuracy',\n",
    "     val_metrics['avg_odds_diff'], 'avg. odds diff.')"
   ]
  },
  {
   "cell_type": "markdown",
   "id": "1dbfb7e0",
   "metadata": {},
   "source": [
    "Make a function to print out accuracy and fairness metrics."
   ]
  },
  {
   "cell_type": "code",
   "execution_count": null,
   "id": "19f0981b",
   "metadata": {},
   "outputs": [],
   "source": [
    "def describe_metrics(metrics, thresh_arr):\n",
    "    best_ind = np.argmax(metrics['bal_acc'])\n",
    "    print(\"Threshold corresponding to Best balanced accuracy: {:6.4f}\".format(thresh_arr[best_ind]))\n",
    "    print(\"Best balanced accuracy: {:6.4f}\".format(metrics['bal_acc'][best_ind]))\n",
    "#     disp_imp_at_best_ind = np.abs(1 - np.array(metrics['disp_imp']))[best_ind]\n",
    "    disp_imp_at_best_ind = 1 - min(metrics['disp_imp'][best_ind], 1/metrics['disp_imp'][best_ind])\n",
    "    print(\"Corresponding 1-min(DI, 1/DI) value: {:6.4f}\".format(disp_imp_at_best_ind))\n",
    "    print(\"Corresponding average odds difference value: {:6.4f}\".format(metrics['avg_odds_diff'][best_ind]))\n",
    "    print(\"Corresponding statistical parity difference value: {:6.4f}\".format(metrics['stat_par_diff'][best_ind]))\n",
    "    print(\"Corresponding equal opportunity difference value: {:6.4f}\".format(metrics['eq_opp_diff'][best_ind]))\n",
    "    print(\"Corresponding Theil index value: {:6.4f}\".format(metrics['theil_ind'][best_ind]))"
   ]
  },
  {
   "cell_type": "code",
   "execution_count": null,
   "id": "465721c1",
   "metadata": {},
   "outputs": [],
   "source": [
    "describe_metrics(val_metrics, thresh_arr)"
   ]
  },
  {
   "cell_type": "markdown",
   "id": "63be63e6",
   "metadata": {},
   "source": [
    "### 3.2.3. Testing LR model on original data"
   ]
  },
  {
   "cell_type": "code",
   "execution_count": null,
   "id": "845efb1c",
   "metadata": {},
   "outputs": [],
   "source": [
    "lr_orig_metrics = test(dataset=dataset_orig_panel19_test,\n",
    "                       model=lr_orig_panel19,\n",
    "                       thresh_arr=[thresh_arr[lr_orig_best_ind]])"
   ]
  },
  {
   "cell_type": "code",
   "execution_count": null,
   "id": "d11feae3",
   "metadata": {},
   "outputs": [],
   "source": [
    "describe_metrics(lr_orig_metrics, [thresh_arr[lr_orig_best_ind]])"
   ]
  },
  {
   "cell_type": "markdown",
   "id": "cc134cfa",
   "metadata": {},
   "source": [
    "For all the fairness metrics displayed above, the value should be close to '0' for fairness.\n",
    "\n",
    "1-min(DI, 1/DI) < 0.2 is typically desired for classifier predictions to be fair.\n",
    "\n",
    "However, for a logistic regression classifier trained with original training data, at the best classification rate, this is quite high. This implies unfairness.\n",
    "\n",
    "Similarly, average odds difference = ((FPR(unpriv) - FPR(priv)) + (TPR (unpriv - TPR(priv)))) / 2 must be close to zero for the classifier to be fair.\n",
    "\n",
    "Again, the results for this classifier-data combination are still high. This still implies unfairness.\n",
    "\n"
   ]
  },
  {
   "cell_type": "markdown",
   "id": "93548ae9",
   "metadata": {},
   "source": [
    "## 3.3. Learning a Random Forest (RF) classifier on original data"
   ]
  },
  {
   "cell_type": "markdown",
   "id": "81400208",
   "metadata": {},
   "source": [
    "### 3.3.1. Training RF model on original data"
   ]
  },
  {
   "cell_type": "code",
   "execution_count": null,
   "id": "85ad458b",
   "metadata": {},
   "outputs": [],
   "source": [
    "dataset = dataset_orig_panel19_train\n",
    "model = make_pipeline(StandardScaler(),\n",
    "                      RandomForestClassifier(n_estimators=500, min_samples_leaf=25))\n",
    "fit_params = {'randomforestclassifier__sample_weight': dataset.instance_weights}\n",
    "rf_orig_panel19 = model.fit(dataset.features, dataset.labels.ravel(), **fit_params)"
   ]
  },
  {
   "cell_type": "markdown",
   "id": "14617473",
   "metadata": {},
   "source": [
    "### 3.3.2. Validating RF model on original data"
   ]
  },
  {
   "cell_type": "code",
   "execution_count": null,
   "id": "72f39170",
   "metadata": {},
   "outputs": [],
   "source": [
    "thresh_arr = np.linspace(0.01, 0.5, 50)\n",
    "val_metrics = test(dataset=dataset_orig_panel19_val,\n",
    "                   model=rf_orig_panel19,\n",
    "                   thresh_arr=thresh_arr)\n",
    "rf_orig_best_ind = np.argmax(val_metrics['bal_acc'])"
   ]
  },
  {
   "cell_type": "code",
   "execution_count": null,
   "id": "56db23ca",
   "metadata": {},
   "outputs": [],
   "source": [
    "disp_imp = np.array(val_metrics['disp_imp'])\n",
    "disp_imp_err = 1 - np.minimum(disp_imp, 1/disp_imp)\n",
    "plot(thresh_arr, 'Classification Thresholds',\n",
    "     val_metrics['bal_acc'], 'Balanced Accuracy',\n",
    "     disp_imp_err, '1 - min(DI, 1/DI)')"
   ]
  },
  {
   "cell_type": "code",
   "execution_count": null,
   "id": "2625d1cf",
   "metadata": {},
   "outputs": [],
   "source": [
    "plot(thresh_arr, 'Classification Thresholds',\n",
    "     val_metrics['bal_acc'], 'Balanced Accuracy',\n",
    "     val_metrics['avg_odds_diff'], 'avg. odds diff.')"
   ]
  },
  {
   "cell_type": "code",
   "execution_count": null,
   "id": "c6f36592",
   "metadata": {},
   "outputs": [],
   "source": [
    "describe_metrics(val_metrics, thresh_arr)"
   ]
  },
  {
   "cell_type": "markdown",
   "id": "67535c4a",
   "metadata": {},
   "source": [
    "### 3.3.3. Testing RF model on original data"
   ]
  },
  {
   "cell_type": "code",
   "execution_count": null,
   "id": "4903303a",
   "metadata": {},
   "outputs": [],
   "source": [
    "rf_orig_metrics = test(dataset=dataset_orig_panel19_test,\n",
    "                       model=rf_orig_panel19,\n",
    "                       thresh_arr=[thresh_arr[rf_orig_best_ind]])"
   ]
  },
  {
   "cell_type": "code",
   "execution_count": null,
   "id": "0cd58082",
   "metadata": {},
   "outputs": [],
   "source": [
    "describe_metrics(rf_orig_metrics, [thresh_arr[rf_orig_best_ind]])"
   ]
  },
  {
   "cell_type": "markdown",
   "id": "35b69aab",
   "metadata": {},
   "source": [
    "### Section 3 Write Up here\n",
    "\n",
    "### Part-01: For **both** the logistic regression and random forest classifiers learned on the original data, please include explain the results of your fairness metrics. For _each_ metric result briefly describe what this value means in 1-2 sentences (is it fair, is it not fair? Why?)\n",
    "\n",
    "**Fairness Metric Summary** \n",
    "* Threshold corresponding to Best balanced accuracy:\n",
    "* Best balanced accuracy: \n",
    "* Corresponding 1-min(DI, 1/DI) value: \n",
    "* Corresponding average odds difference value: \n",
    "* Corresponding statistical parity difference value: \n",
    "* Corresponding equal opportunity difference value:\n",
    "* Corresponding Theil index value:\n",
    "\n",
    "### Part-02: Please write one paragraph for each question.\n",
    "1. How can we determine which metrics to use, given our data and use case? You can refer to [Course material](https://nanrahman.github.io/capstone-responsible-ai/weeks/06-Fairness-Assessments/), online research and Guidance provided by [AIF360](http://aif360.mybluemix.net/resources#)\n",
    "2. When you have competing fairness metrics, how to pick which to prioritize?\n",
    "3. What do you do when you encounter different definitions for similar metrics?\n",
    "4. Based on this, which model and fairness metric appears the best to proceed with?"
   ]
  },
  {
   "cell_type": "markdown",
   "id": "6dfafe4e",
   "metadata": {},
   "source": [
    "## Fairness Metrics Comparison Between Logistic Regression (LR) and Random Forest (RF)\n",
    "\n",
    "### Threshold corresponding to Best balanced accuracy (LR vs RF) - 0.1900 vs 0.2300:\n",
    "The threshold corresponding to best balanced accuracy represents the decision point where the model achieves its optimal balance between true positive and true negative rates. The threshold for LR is slightly lower, suggesting a different trade-off point for achieving balanced accuracy. Both thresholds aim to optimize fairness between true positive and true negative rates, though neither completely ensures fairness due to the subsequent disparities in other metrics.\n",
    "\n",
    "\n",
    "### Best balanced accuracy (LR vs RF) - 0.7759 vs 0.7640:\n",
    "Balanced accuracy averages accuracy across classes to handle imbalance and ensure each class is fairly represented. LR achieves slightly higher balanced accuracy than RF, indicating a better overall performance across both classes. However, this difference is marginal and may not signify a considerable advantage in fairness.\n",
    "\n",
    "\n",
    "### 1-min(DI, 1/DI) value (LR vs RF) - 0.5738 vs 0.5040:\n",
    "This metric measures the degree of disparate impact, with values closer to 0 indicating less disparity between groups. RF has a lower value, indicating slightly better fairness in terms of disparate impact, although both values reflect a significant disparity between groups. Neither model fully achieves fairness as values closer to 0 are preferred.\n",
    "\n",
    "\n",
    "### Average odds difference (LR vs RF) - -0.2057 vs -0.1346:\n",
    "Average odds difference compares the true positive and false positive rates across groups, with values near 0 indicating fairness. RF’s average odds difference is closer to 0, which suggests it has less disparity in the odds of correct positive predictions between groups, making it marginally fairer than LR in this aspect.\n",
    "\n",
    "\n",
    "### Statistical parity difference (LR vs RF) - -0.2612 vs -0.2121:\n",
    "Statistical parity difference measures the disparity in positive outcome rates between groups, with values close to 0 indicating fairness. RF’s statistical parity difference is closer to 0, indicating it has a smaller disparity in positive outcome rates between groups. This suggests RF is slightly more fair in providing equal opportunity for positive outcomes.\n",
    "\n",
    "\n",
    "### Equal opportunity difference (LR vs RF) - -0.2228 vs -0.1141:\n",
    "Equal opportunity difference reflects the difference in true positive rates between groups, with near-zero values indicating fairness. RF again shows a smaller disparity, suggesting it offers more equal true positive rates across groups compared to LR. However, both models still exhibit notable inequalities in opportunity.\n",
    "\n",
    "\n",
    "### Theil index (LR vs RF) - 0.0921 vs 0.0944:\n",
    "The Theil index measures distributional inequality, with lower values suggesting less unfairness in outcome distribution. Both models have similar Theil index values, indicating low but comparable levels of inequality in distributional fairness. The small difference here suggests minimal information loss due to unfair predictions for both models."
   ]
  },
  {
   "cell_type": "markdown",
   "id": "d8b129ea",
   "metadata": {},
   "source": [
    "## Part-02: One Paragraph for Each Question\n",
    "\n",
    "### How can we determine which metrics to use, given our data and use case?  \n",
    "\n",
    "The choice of fairness metrics depends on the data, use case, and ethical implications of model decisions. For example, if equal opportunity matters, metrics like equal opportunity difference or average odds difference are key. Here, RF had better equal opportunity difference than LR, so RF could be a better choice for equal opportunity. Guidance from AIF360 and course materials recommends aligning fairness metrics with demographic impacts and stakeholder control over attributes.\n",
    "\n",
    "### When you have competing fairness metrics, how to pick which to prioritize? \n",
    "\n",
    "To prioritize competing fairness metrics, consider the context and consequences of focusing on one fairness aspect over another. In our analysis, RF showed better disparate impact and statistical parity difference, indicating fairer outcomes across groups. In healthcare, equal opportunity might be prioritized to ensure fairness for all groups, while financial settings may prioritize disparate impact. \n",
    "\n",
    "\n",
    "### What do you do when you encounter different definitions for similar metrics? \n",
    "\n",
    "When facing different definitions for similar metrics, understanding the underlying concepts and assumptions of each is critical. For example, both average odds difference and equal opportunity difference address group disparities but in different ways (positive prediction rates versus true positive rates). Knowing these distinctions helps choose the metric that best suits the context.\n",
    "\n",
    "### Based on this, which model and fairness metric appears the best to proceed with? \n",
    "\n",
    "Based on the metrics, the RF model is better due to its lower 1-min(DI, 1/DI), average odds difference, and statistical parity difference, suggesting fairer prediction distribution. RF also has a better equal opportunity difference, implying more equality in true positive rates. RF's improved fairness, especially in equal opportunity and disparate impact, makes it preferable when fairness is prioritized over minor balanced accuracy gains. In summary, focusing on reducing statistical parity difference and average odds difference in the RF model could yield the most equitable results."
   ]
  },
  {
   "cell_type": "markdown",
   "id": "6a9d0791",
   "metadata": {},
   "source": [
    "### [4.](#Table-of-Contents) Additional Model Development\n"
   ]
  },
  {
   "cell_type": "markdown",
   "id": "f1b500c8",
   "metadata": {},
   "source": [
    "### 4.1A Load data & create splits for learning/validating/testing model"
   ]
  },
  {
   "cell_type": "code",
   "execution_count": null,
   "id": "41619a12",
   "metadata": {},
   "outputs": [],
   "source": [
    "# Use the same methods from Section 3\n",
    "RW = Reweighing(unprivileged_groups=unprivileged_groups,\n",
    "                privileged_groups=privileged_groups)\n",
    "dataset_transf_panel19_train = RW.fit_transform(dataset_orig_panel19_train)"
   ]
  },
  {
   "cell_type": "code",
   "execution_count": null,
   "id": "59dd6473",
   "metadata": {},
   "outputs": [],
   "source": [
    "metric_transf_panel19_train = BinaryLabelDatasetMetric(\n",
    "        dataset_transf_panel19_train,\n",
    "        unprivileged_groups=unprivileged_groups,\n",
    "        privileged_groups=privileged_groups)\n",
    "explainer_transf_panel19_train = MetricTextExplainer(metric_transf_panel19_train)\n",
    "\n",
    "print(explainer_transf_panel19_train.disparate_impact())"
   ]
  },
  {
   "cell_type": "markdown",
   "id": "3c11b52c",
   "metadata": {},
   "source": [
    "### 4.2 Learning a Logistic Regression (LR) classifier on data transformed by reweighing"
   ]
  },
  {
   "cell_type": "code",
   "execution_count": null,
   "id": "20f84ceb",
   "metadata": {},
   "outputs": [],
   "source": [
    "dataset = dataset_transf_panel19_train\n",
    "model = make_pipeline(StandardScaler(),\n",
    "                      LogisticRegression(solver='liblinear', random_state=1))\n",
    "fit_params = {'logisticregression__sample_weight': dataset.instance_weights}\n",
    "lr_transf_panel19 = model.fit(dataset.features, dataset.labels.ravel(), **fit_params)"
   ]
  },
  {
   "cell_type": "code",
   "execution_count": null,
   "id": "03ac07cb",
   "metadata": {},
   "outputs": [],
   "source": [
    "thresh_arr = np.linspace(0.01, 0.5, 50)\n",
    "val_metrics = test(dataset=dataset_orig_panel19_val,\n",
    "                   model=lr_transf_panel19,\n",
    "                   thresh_arr=thresh_arr)\n",
    "lr_transf_best_ind = np.argmax(val_metrics['bal_acc'])"
   ]
  },
  {
   "cell_type": "code",
   "execution_count": null,
   "id": "cdaae1f4",
   "metadata": {},
   "outputs": [],
   "source": [
    "disp_imp = np.array(val_metrics['disp_imp'])\n",
    "disp_imp_err = 1 - np.minimum(disp_imp, 1/disp_imp)\n",
    "plot(thresh_arr, 'Classification Thresholds',\n",
    "     val_metrics['bal_acc'], 'Balanced Accuracy',\n",
    "     disp_imp_err, '1 - min(DI, 1/DI)')"
   ]
  },
  {
   "cell_type": "code",
   "execution_count": null,
   "id": "472d4a8b",
   "metadata": {},
   "outputs": [],
   "source": [
    "plot(thresh_arr, 'Classification Thresholds',\n",
    "     val_metrics['bal_acc'], 'Balanced Accuracy',\n",
    "     val_metrics['avg_odds_diff'], 'avg. odds diff.')"
   ]
  },
  {
   "cell_type": "code",
   "execution_count": null,
   "id": "b9d827b0",
   "metadata": {},
   "outputs": [],
   "source": [
    "describe_metrics(val_metrics, thresh_arr)"
   ]
  },
  {
   "cell_type": "markdown",
   "id": "004c55ac",
   "metadata": {},
   "source": [
    "### 4.2.3. Testing LR model after reweighing"
   ]
  },
  {
   "cell_type": "code",
   "execution_count": null,
   "id": "90420a42",
   "metadata": {},
   "outputs": [],
   "source": [
    "lr_transf_metrics = test(dataset=dataset_orig_panel19_test,\n",
    "                         model=lr_transf_panel19,\n",
    "                         thresh_arr=[thresh_arr[lr_transf_best_ind]])"
   ]
  },
  {
   "cell_type": "code",
   "execution_count": null,
   "id": "fc489652",
   "metadata": {},
   "outputs": [],
   "source": [
    "describe_metrics(lr_transf_metrics, [thresh_arr[lr_transf_best_ind]])"
   ]
  },
  {
   "cell_type": "markdown",
   "id": "7fa712dc",
   "metadata": {},
   "source": [
    "### 4.3. Learning a Random Forest (RF) classifier on original data"
   ]
  },
  {
   "cell_type": "code",
   "execution_count": null,
   "id": "37e2fa21",
   "metadata": {},
   "outputs": [],
   "source": [
    "# Use the same methods from Section 3\n",
    "dataset = dataset_transf_panel19_train\n",
    "model = make_pipeline(StandardScaler(),\n",
    "                      RandomForestClassifier(n_estimators=500, min_samples_leaf=25))\n",
    "fit_params = {'randomforestclassifier__sample_weight': dataset.instance_weights}\n",
    "rf_transf_panel19 = model.fit(dataset.features, dataset.labels.ravel(), **fit_params)"
   ]
  },
  {
   "cell_type": "code",
   "execution_count": null,
   "id": "094b0783",
   "metadata": {},
   "outputs": [],
   "source": [
    "thresh_arr = np.linspace(0.01, 0.5, 50)\n",
    "val_metrics = test(dataset=dataset_orig_panel19_val,\n",
    "                   model=rf_transf_panel19,\n",
    "                   thresh_arr=thresh_arr)\n",
    "rf_transf_best_ind = np.argmax(val_metrics['bal_acc'])"
   ]
  },
  {
   "cell_type": "code",
   "execution_count": null,
   "id": "0c682892",
   "metadata": {},
   "outputs": [],
   "source": [
    "disp_imp = np.array(val_metrics['disp_imp'])\n",
    "disp_imp_err = 1 - np.minimum(disp_imp, 1/disp_imp)\n",
    "plot(thresh_arr, 'Classification Thresholds',\n",
    "     val_metrics['bal_acc'], 'Balanced Accuracy',\n",
    "     disp_imp_err, '1 - min(DI, 1/DI)')"
   ]
  },
  {
   "cell_type": "code",
   "execution_count": null,
   "id": "e82919d6",
   "metadata": {},
   "outputs": [],
   "source": [
    "plot(thresh_arr, 'Classification Thresholds',\n",
    "     val_metrics['bal_acc'], 'Balanced Accuracy',\n",
    "     val_metrics['avg_odds_diff'], 'avg. odds diff.')"
   ]
  },
  {
   "cell_type": "code",
   "execution_count": null,
   "id": "a72029b5",
   "metadata": {},
   "outputs": [],
   "source": [
    "describe_metrics(val_metrics, thresh_arr)"
   ]
  },
  {
   "cell_type": "markdown",
   "id": "a8dbd5c5",
   "metadata": {},
   "source": [
    "### 4.3.3. Testing RF model after reweighing"
   ]
  },
  {
   "cell_type": "code",
   "execution_count": null,
   "id": "94815da4",
   "metadata": {},
   "outputs": [],
   "source": [
    "rf_transf_metrics = test(dataset=dataset_orig_panel19_test,\n",
    "                         model=rf_transf_panel19,\n",
    "                         thresh_arr=[thresh_arr[rf_transf_best_ind]])"
   ]
  },
  {
   "cell_type": "code",
   "execution_count": null,
   "id": "98f7afb4",
   "metadata": {},
   "outputs": [],
   "source": [
    "describe_metrics(rf_transf_metrics, [thresh_arr[rf_transf_best_ind]])"
   ]
  },
  {
   "cell_type": "markdown",
   "id": "8ccf4638",
   "metadata": {},
   "source": [
    "### Section 4 Write Up here\n",
    "\n",
    "**1. For both the logistic regression and random forest classifiers learned on the original data, please include the results of your fairness metrics. For _each_ metric result briefly describe (1-2 sentences) if you saw any differences from your results in Part 3, and what that might mean.**\n",
    "\n",
    "_Fairness Metrics_\n",
    "\n",
    "##### Logistic regression: \n",
    "* Threshold corresponding to Best balanced accuracy: 0.2200 - increased from .19, indicating after we did the reweighing, the decision boundary changed to balance true negative and true positives.  \n",
    "\n",
    "\n",
    "* Best balanced accuracy: 0.7581- decreased from .7759. This is roughly the same, so I wouldn’t say we can make any conclusions from this  \n",
    "\n",
    "\n",
    "* Corresponding 1-min(DI, 1/DI) value: 0.2939 - decreased from .5739! This could imply a significant improvement in disparate impact, indicating that the model became more fair in how it predicts outcomes between groups.\n",
    "\n",
    "\n",
    "* Corresponding average odds difference value: -0.0084 - improved from -0.2057, this metric shows a reduction in bias regarding the odds of receiving favorable outcomes, which points towards more equal treatment across groups (more fair). \n",
    "\n",
    "\n",
    "* Corresponding statistical parity difference value: -0.0992 -  Improved from -0.2612 to -0.0992, indicating that the likelihood of a positive outcome became more fair between different groups\n",
    "\n",
    "\n",
    "* Corresponding equal opportunity difference value: 0.0242 - improved form -.2228, which is a significant improvement! This would imply that the rewighing helped equalize true positive rates \n",
    "\n",
    "\n",
    "* Corresponding Theil index value: 0.0938 - increased slightly from .0921, but this change is pretty small so it would be tough to draw any conclusions from here. \n",
    "\n",
    "##### Random Forest: \n",
    "\n",
    "* Threshold corresponding to Best balanced accuracy: 0.2300 -  remained the same, no conclusion to be drawn \n",
    "\n",
    "* Best balanced accuracy: 0.7644 - slight increase but  pretty insignificant, no conclusion can be drawn\n",
    "\n",
    "* Corresponding 1-min(DI, 1/DI) value: 0.4336 - decreased from 0.5040, which represents an improvement in reducing disparate impact. This indicates that the model became somewhat more equitable in predicting outcomes across different groups\n",
    "\n",
    "* Corresponding average odds difference value: -0.1014 - small improvement from -0.1346, showing a reduction in bias concerning the odds of receiving favorable outcomes, moving towards more equitable treatment across different groups.\n",
    "\n",
    "* Corresponding statistical parity difference value: -0.1776 - Improved from -0.2121, suggesting that the likelihood of a positive outcome has become fairer and more balanced between different demographic groups after reweighing.\n",
    "\n",
    "* Corresponding equal opportunity difference value: -0.0842 - slight improvement from -0.1141, indicating that reweighing helped to make the true positive rates more equal across different groups. \n",
    "\n",
    "* Corresponding Theil index value: 0.0938 slightly decreased from .0944 but difference semes insignificant to draw any conclusions \n",
    "\n",
    "    \n",
    "**2. Based on this, would you make any recommendations during model development? Does it change which model and fairness metric would be the best to proceed with?** (Please write at least one paragraph)"
   ]
  },
  {
   "cell_type": "markdown",
   "id": "b5fa8190",
   "metadata": {},
   "source": [
    "After seeing the results from part 3 and 4, we would suggest to continue to focus efforts on the reweighing strategies. With these strategies, our models became a lot more fair for both the logistical regression and the random forest models. However, it seems like the logistical regression model after reweighing is more fair overall than the random forest. Its 1min and avg odds difference is significantly better, which is how we are drawing that conclusion. I would recommend exploring some feature engineering or other reweighing tactics to try and make this model even more fair. \n"
   ]
  },
  {
   "cell_type": "markdown",
   "id": "a4f1e6bb",
   "metadata": {},
   "source": [
    "\n",
    "### End of Replication Part 02 -  Model Development and Fairness Evaluation\n",
    "\n",
    "----\n"
   ]
  },
  {
   "cell_type": "markdown",
   "id": "58b3e294",
   "metadata": {},
   "source": [
    "### [5.](#Table-of-Contents) Bias Mitigation"
   ]
  },
  {
   "cell_type": "markdown",
   "id": "a3a548ca",
   "metadata": {},
   "source": [
    "Bias mitigation using in-processing technique - Prejudice Remover (PR)"
   ]
  },
  {
   "cell_type": "markdown",
   "id": "c9e68003",
   "metadata": {},
   "source": [
    "5.1. Learning a Prejudice Remover (PR) model on original data"
   ]
  },
  {
   "cell_type": "markdown",
   "id": "9584d841",
   "metadata": {},
   "source": [
    "5.1.1. Training a PR model"
   ]
  },
  {
   "cell_type": "code",
   "execution_count": null,
   "id": "b473267a",
   "metadata": {},
   "outputs": [],
   "source": [
    "model = PrejudiceRemover(sensitive_attr=sens_attr, eta=25.0)\n",
    "pr_orig_scaler = StandardScaler()\n",
    "\n",
    "dataset = dataset_orig_panel19_train.copy()\n",
    "dataset.features = pr_orig_scaler.fit_transform(dataset.features)\n",
    "\n",
    "pr_orig_panel19 = model.fit(dataset)"
   ]
  },
  {
   "cell_type": "markdown",
   "id": "28feb6e3",
   "metadata": {},
   "source": [
    "5.1.2. Validating PR model"
   ]
  },
  {
   "cell_type": "code",
   "execution_count": null,
   "id": "84df08e7",
   "metadata": {},
   "outputs": [],
   "source": [
    "thresh_arr = np.linspace(0.01, 0.50, 50)\n",
    "\n",
    "dataset = dataset_orig_panel19_val.copy()\n",
    "dataset.features = pr_orig_scaler.transform(dataset.features)\n",
    "\n",
    "val_metrics = test(dataset=dataset,\n",
    "                   model=pr_orig_panel19,\n",
    "                   thresh_arr=thresh_arr)\n",
    "pr_orig_best_ind = np.argmax(val_metrics['bal_acc'])"
   ]
  },
  {
   "cell_type": "code",
   "execution_count": null,
   "id": "49e5276f",
   "metadata": {},
   "outputs": [],
   "source": [
    "disp_imp = np.array(val_metrics['disp_imp'])\n",
    "disp_imp_err = 1 - np.minimum(disp_imp, 1/disp_imp)\n",
    "plot(thresh_arr, 'Classification Thresholds',\n",
    "     val_metrics['bal_acc'], 'Balanced Accuracy',\n",
    "     disp_imp_err, '1 - min(DI, 1/DI)')"
   ]
  },
  {
   "cell_type": "code",
   "execution_count": null,
   "id": "9a0c41b4",
   "metadata": {},
   "outputs": [],
   "source": [
    "plot(thresh_arr, 'Classification Thresholds',\n",
    "     val_metrics['bal_acc'], 'Balanced Accuracy',\n",
    "     val_metrics['avg_odds_diff'], 'avg. odds diff.')"
   ]
  },
  {
   "cell_type": "code",
   "execution_count": null,
   "id": "8ee906ea",
   "metadata": {},
   "outputs": [],
   "source": [
    "describe_metrics(val_metrics, thresh_arr)"
   ]
  },
  {
   "cell_type": "markdown",
   "id": "be4d18f3",
   "metadata": {},
   "source": [
    "5.1.3. Testing PR model"
   ]
  },
  {
   "cell_type": "code",
   "execution_count": null,
   "id": "130b7348",
   "metadata": {},
   "outputs": [],
   "source": [
    "dataset = dataset_orig_panel19_test.copy()\n",
    "dataset.features = pr_orig_scaler.transform(dataset.features)\n",
    "\n",
    "pr_orig_metrics = test(dataset=dataset,\n",
    "                       model=pr_orig_panel19,\n",
    "                       thresh_arr=[thresh_arr[pr_orig_best_ind]])\n",
    "\n",
    "describe_metrics(pr_orig_metrics, [thresh_arr[pr_orig_best_ind]])"
   ]
  },
  {
   "cell_type": "code",
   "execution_count": null,
   "id": "1f4b26ac",
   "metadata": {},
   "outputs": [],
   "source": [
    "model = PrejudiceRemover(sensitive_attr=sens_attr, eta=25.0)\n",
    "pr_orig_scaler = StandardScaler()\n",
    "\n",
    "dataset = dataset_orig_panel19_train.copy()\n",
    "dataset.features = pr_orig_scaler.fit_transform(dataset.features)\n",
    "\n",
    "pr_orig_panel19 = model.fit(dataset)\n",
    "\n",
    "thresh_arr = np.linspace(0.01, 0.50, 50)\n",
    "\n",
    "dataset = dataset_orig_panel19_val.copy()\n",
    "dataset.features = pr_orig_scaler.transform(dataset.features)\n",
    "\n",
    "val_metrics = test(dataset=dataset,\n",
    "                   model=pr_orig_panel19,\n",
    "                   thresh_arr=thresh_arr)\n",
    "pr_orig_best_ind = np.argmax(val_metrics['bal_acc'])"
   ]
  },
  {
   "cell_type": "markdown",
   "id": "b3945a36",
   "metadata": {},
   "source": [
    "from example:\n",
    "\n",
    "As in the case of reweighing, prejudice remover results in a fair model. However, it has come at the expense of relatively lower balanced accuracy."
   ]
  },
  {
   "attachments": {},
   "cell_type": "markdown",
   "id": "54a27cd8",
   "metadata": {},
   "source": [
    "## 5c"
   ]
  },
  {
   "attachments": {},
   "cell_type": "markdown",
   "id": "de9eec4d",
   "metadata": {},
   "source": [
    "### DisparateImpactRemover"
   ]
  },
  {
   "cell_type": "code",
   "execution_count": null,
   "id": "67d5f476",
   "metadata": {},
   "outputs": [],
   "source": [
    "from aif360.algorithms.preprocessing import DisparateImpactRemover\n",
    "from sklearn.preprocessing import MinMaxScaler\n",
    "import numpy as np\n",
    "from sklearn.linear_model import LogisticRegression\n",
    "from aif360.metrics import BinaryLabelDatasetMetric\n",
    "import matplotlib.pyplot as plt\n",
    "\n",
    "repair_levels = np.linspace(0., 1., 11)\n",
    "disparate_impacts = []\n",
    "index = dataset_orig_panel19_train.feature_names.index(sens_attr)\n",
    "\n",
    "scaler = MinMaxScaler()\n",
    "\n",
    "dataset_orig_panel19_train.features = scaler.fit_transform(dataset_orig_panel19_train.features)\n",
    "dataset_orig_panel19_test.features = scaler.transform(dataset_orig_panel19_test.features)\n",
    "\n",
    "for level in repair_levels:\n",
    "    di = DisparateImpactRemover(repair_level=level)\n",
    "    train_repd = di.fit_transform(dataset_orig_panel19_train)\n",
    "    test_repd = di.fit_transform(dataset_orig_panel19_test)\n",
    "    \n",
    "    X_train = np.delete(train_repd.features, index, axis=1)\n",
    "    X_test = np.delete(test_repd.features, index, axis=1)\n",
    "    y_train = train_repd.labels.ravel()\n",
    "    \n",
    "    model = LogisticRegression(class_weight='balanced', solver='liblinear')\n",
    "    model.fit(X_train, y_train)\n",
    "    \n",
    "    test_repd_pred = test_repd.copy()\n",
    "    test_repd_pred.labels = model.predict(X_test)\n",
    "    \n",
    "    metric = BinaryLabelDatasetMetric(test_repd_pred, privileged_groups=privileged_groups, unprivileged_groups=unprivileged_groups)\n",
    "    disparate_impacts.append(metric.disparate_impact())\n",
    "\n",
    "plt.plot(repair_levels, disparate_impacts, marker='o')\n",
    "plt.xlabel('Repair Level')\n",
    "plt.ylabel('Disparate Impact')\n",
    "plt.title('Disparate Impact vs. Repair Level')\n",
    "plt.show()\n",
    "\n"
   ]
  },
  {
   "attachments": {},
   "cell_type": "markdown",
   "id": "6737c681",
   "metadata": {},
   "source": [
    "# Odds-equalizing post-processing"
   ]
  },
  {
   "cell_type": "code",
   "execution_count": null,
   "id": "62dedaba",
   "metadata": {},
   "outputs": [],
   "source": [
    "import sys\n",
    "sys.path.insert(0, '../')\n",
    "\n",
    "%matplotlib inline\n",
    "import matplotlib.pyplot as plt\n",
    "import numpy as np\n",
    "from IPython.display import Markdown, display\n",
    "\n",
    "from aif360.datasets import MEPSDataset19\n",
    "\n",
    "from aif360.metrics import BinaryLabelDatasetMetric\n",
    "from aif360.metrics import ClassificationMetric\n",
    "\n",
    "from sklearn.preprocessing import StandardScaler\n",
    "from sklearn.linear_model import LogisticRegression\n",
    "\n",
    "from aif360.algorithms.postprocessing.calibrated_eq_odds_postprocessing import CalibratedEqOddsPostprocessing\n",
    "from tqdm import tqdm\n",
    "from collections import defaultdict"
   ]
  },
  {
   "cell_type": "code",
   "execution_count": null,
   "id": "0693cb90",
   "metadata": {},
   "outputs": [],
   "source": [
    "\n",
    "(dataset_orig_panel19_train,\n",
    " dataset_orig_panel19_val,\n",
    " dataset_orig_panel19_test) = MEPSDataset19().split([0.5, 0.8], shuffle=True)\n",
    "\n",
    "sens_ind = 0\n",
    "sens_attr = dataset_orig_panel19_train.protected_attribute_names[sens_ind]\n",
    "\n",
    "unprivileged_groups = [{sens_attr: v} for v in dataset_orig_panel19_train.unprivileged_protected_attributes[sens_ind]]\n",
    "privileged_groups = [{sens_attr: v} for v in dataset_orig_panel19_train.privileged_protected_attributes[sens_ind]]\n",
    "\n",
    "def describe(train=None, val=None, test=None):\n",
    "    if train is not None:\n",
    "        display(Markdown(\"#### Training Dataset shape\"))\n",
    "        print(train.features.shape)\n",
    "    if val is not None:\n",
    "        display(Markdown(\"#### Validation Dataset shape\"))\n",
    "        print(val.features.shape)\n",
    "    display(Markdown(\"#### Test Dataset shape\"))\n",
    "    print(test.features.shape)\n",
    "    display(Markdown(\"#### Favorable and unfavorable labels\"))\n",
    "    print(test.favorable_label, test.unfavorable_label)\n",
    "    display(Markdown(\"#### Protected attribute names\"))\n",
    "    print(test.protected_attribute_names)\n",
    "    display(Markdown(\"#### Privileged and unprivileged protected attribute values\"))\n",
    "    print(test.privileged_protected_attributes, \n",
    "          test.unprivileged_protected_attributes)\n",
    "    display(Markdown(\"#### Dataset feature names\"))\n",
    "    print(test.feature_names)\n",
    "\n",
    "\n",
    "scale_orig = StandardScaler()\n",
    "X_train = scale_orig.fit_transform(dataset_orig_panel19_train.features)\n",
    "y_train = dataset_orig_panel19_train.labels.ravel()\n",
    "lmod = LogisticRegression(solver='liblinear', random_state=1)\n",
    "lmod.fit(X_train, y_train)\n",
    "\n",
    "fav_idx = np.where(lmod.classes_ == dataset_orig_panel19_train.favorable_label)[0][0]\n",
    "\n",
    "X_valid = scale_orig.transform(dataset_orig_panel19_val.features)\n",
    "y_valid_pred_prob = lmod.predict_proba(X_valid)[:, fav_idx]\n",
    "\n",
    "X_test = scale_orig.transform(dataset_orig_panel19_test.features)\n",
    "y_test_pred_prob = lmod.predict_proba(X_test)[:, fav_idx]\n",
    "\n",
    "dataset_orig_val_pred = dataset_orig_panel19_val.copy(deepcopy=True)\n",
    "dataset_orig_test_pred = dataset_orig_panel19_test.copy(deepcopy=True)\n",
    "\n",
    "dataset_orig_val_pred.scores = y_valid_pred_prob.reshape(-1, 1)\n",
    "dataset_orig_test_pred.scores = y_test_pred_prob.reshape(-1, 1)\n",
    "\n",
    "cpp = CalibratedEqOddsPostprocessing(privileged_groups=privileged_groups,\n",
    "                                     unprivileged_groups=unprivileged_groups,\n",
    "                                     cost_constraint=\"fnr\", \n",
    "                                     seed=12345679)\n",
    "cpp = cpp.fit(dataset_orig_panel19_val, dataset_orig_val_pred)\n",
    "\n",
    "dataset_transf_val_pred = cpp.predict(dataset_orig_val_pred)\n",
    "dataset_transf_test_pred = cpp.predict(dataset_orig_test_pred)\n",
    "\n",
    "def test(dataset, model, thresh_arr):\n",
    "    try:\n",
    "        y_val_pred_prob = model.predict_proba(dataset.features)\n",
    "        pos_ind = np.where(model.classes_ == dataset.favorable_label)[0][0]\n",
    "    except AttributeError:\n",
    "        y_val_pred_prob = model.predict(dataset).scores\n",
    "        pos_ind = 0\n",
    "\n",
    "    metric_arrs = defaultdict(list)\n",
    "    for thresh in thresh_arr:\n",
    "        y_val_pred = (y_val_pred_prob[:, pos_ind] > thresh).astype(np.float64)\n",
    "\n",
    "        dataset_pred = dataset.copy()\n",
    "        dataset_pred.labels = y_val_pred\n",
    "        metric = ClassificationMetric(\n",
    "                dataset, dataset_pred,\n",
    "                unprivileged_groups=unprivileged_groups,\n",
    "                privileged_groups=privileged_groups)\n",
    "\n",
    "        metric_arrs['bal_acc'].append((metric.true_positive_rate() + metric.true_negative_rate()) / 2)\n",
    "        metric_arrs['avg_odds_diff'].append(metric.average_odds_difference())\n",
    "        metric_arrs['disp_imp'].append(metric.disparate_impact())\n",
    "        metric_arrs['stat_par_diff'].append(metric.statistical_parity_difference())\n",
    "        metric_arrs['eq_opp_diff'].append(metric.equal_opportunity_difference())\n",
    "        metric_arrs['theil_ind'].append(metric.theil_index())\n",
    "\n",
    "    return metric_arrs\n",
    "\n",
    "thresh_arr = np.linspace(0.01, 0.5, 50)\n",
    "val_metrics = test(dataset=dataset_transf_val_pred, model=cpp, thresh_arr=thresh_arr)\n",
    "\n",
    "best_ind = np.argmax(val_metrics['bal_acc'])\n",
    "\n",
    "def plot(x, x_name, y_left, y_left_name, y_right, y_right_name):\n",
    "    fig, ax1 = plt.subplots(figsize=(10, 7))\n",
    "    ax1.plot(x, y_left)\n",
    "    ax1.set_xlabel(x_name, fontsize=16, fontweight='bold')\n",
    "    ax1.set_ylabel(y_left_name, color='b', fontsize=16, fontweight='bold')\n",
    "    ax1.xaxis.set_tick_params(labelsize=14)\n",
    "    ax1.yaxis.set_tick_params(labelsize=14)\n",
    "    ax1.set_ylim(0.5, 0.8)\n",
    "\n",
    "    ax2 = ax1.twinx()\n",
    "    ax2.plot(x, y_right, color='r')\n",
    "    ax2.set_ylabel(y_right_name, color='r', fontsize=16, fontweight='bold')\n",
    "    if 'DI' in y_right_name:\n",
    "        ax2.set_ylim(0., 0.7)\n",
    "    else:\n",
    "        ax2.set_ylim(-0.25, 0.1)\n",
    "\n",
    "    best_ind = np.argmax(y_left)\n",
    "    ax2.axvline(np.array(x)[best_ind], color='k', linestyle=':')\n",
    "    ax2.yaxis.set_tick_params(labelsize=14)\n",
    "    ax2.grid(True)\n",
    "\n",
    "plot(thresh_arr, 'Classification Thresholds',\n",
    "     val_metrics['bal_acc'], 'Balanced Accuracy',\n",
    "     val_metrics['avg_odds_diff'], 'Average Odds Difference')\n",
    "\n",
    "\n",
    "describe_metrics(val_metrics, thresh_arr)\n",
    "\n",
    "test_metrics = test(dataset=dataset_transf_test_pred, model=cpp, thresh_arr=[thresh_arr[best_ind]])\n",
    "describe_metrics(test_metrics, [thresh_arr[best_ind]])"
   ]
  },
  {
   "cell_type": "markdown",
   "id": "106d7b57",
   "metadata": {},
   "source": [
    "### [6.](#Table-of-Contents) Results Summary"
   ]
  },
  {
   "cell_type": "markdown",
   "id": "61997b93",
   "metadata": {},
   "source": [
    "### [7.](#Table-of-Contents) Explainability"
   ]
  },
  {
   "cell_type": "markdown",
   "id": "a9010ecc",
   "metadata": {},
   "source": [
    "### [8.](#Table-of-Contents) Conclusion & Discussion"
   ]
  }
 ],
 "metadata": {
  "kernelspec": {
   "display_name": "aif360",
   "language": "python",
   "name": "python3"
  },
  "language_info": {
   "codemirror_mode": {
    "name": "ipython",
    "version": 3
   },
   "file_extension": ".py",
   "mimetype": "text/x-python",
   "name": "python",
   "nbconvert_exporter": "python",
   "pygments_lexer": "ipython3",
   "version": "3.9.20"
  }
 },
 "nbformat": 4,
 "nbformat_minor": 5
}
